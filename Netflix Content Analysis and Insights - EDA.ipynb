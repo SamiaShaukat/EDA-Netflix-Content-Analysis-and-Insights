{
  "cells": [
    {
      "cell_type": "markdown",
      "id": "97154ceb-299c-43b3-92ad-975eeea2cd5c",
      "metadata": {
        "id": "97154ceb-299c-43b3-92ad-975eeea2cd5c"
      },
      "source": [
        "The objective of this assignment is to analyze the given Netflix dataset and generate\n",
        "insights\n",
        "\n",
        "## About the Dataset:\n",
        "\n",
        "Netflix is one of the most popular media and video streaming platforms. They have over\n",
        "10000 movies or tv shows available on their platform, as of mid-2021, they had over\n",
        "222M Subscribers globally. This tabular dataset consists of listings of all the movies and\n",
        "tv shows available on Netflix, along with details such as - cast, directors, ratings,\n",
        "release year, duration, etc.\n",
        "\n",
        "## Business Problem\n",
        "The goal is to uncover insights into viewer preferences, content performance, and regional trends. By doing so, Netflix can make data-driven decisions to improve subscriber retention, attract new viewers, and enhance their content offerings to stay ahead in the competitive streaming market."
      ]
    },
    {
      "cell_type": "markdown",
      "id": "5ff8b156-b840-4025-8021-7485342fcee5",
      "metadata": {
        "id": "5ff8b156-b840-4025-8021-7485342fcee5"
      },
      "source": [
        "## 1. Importing Libraries"
      ]
    },
    {
      "cell_type": "code",
      "execution_count": null,
      "id": "7478b0dc-6afb-4d3b-9352-38fc7ecd38e1",
      "metadata": {
        "id": "7478b0dc-6afb-4d3b-9352-38fc7ecd38e1"
      },
      "outputs": [],
      "source": [
        "import numpy as np\n",
        "import pandas as pd\n",
        "import matplotlib.pyplot as plt\n",
        "import seaborn as sns\n",
        "import warnings\n",
        "warnings.filterwarnings('ignore')"
      ]
    },
    {
      "cell_type": "markdown",
      "id": "962d257c-6349-413c-ae37-1c0d294d6c69",
      "metadata": {
        "id": "962d257c-6349-413c-ae37-1c0d294d6c69"
      },
      "source": [
        "## 2. Loading the data"
      ]
    },
    {
      "cell_type": "code",
      "execution_count": null,
      "id": "ef0a9a59-4b4c-41f1-9e6a-b7bb4259a169",
      "metadata": {
        "scrolled": true,
        "id": "ef0a9a59-4b4c-41f1-9e6a-b7bb4259a169",
        "outputId": "adbb44e6-00f5-4730-908a-ad59a424a1ab"
      },
      "outputs": [
        {
          "data": {
            "text/html": [
              "<div>\n",
              "<style scoped>\n",
              "    .dataframe tbody tr th:only-of-type {\n",
              "        vertical-align: middle;\n",
              "    }\n",
              "\n",
              "    .dataframe tbody tr th {\n",
              "        vertical-align: top;\n",
              "    }\n",
              "\n",
              "    .dataframe thead th {\n",
              "        text-align: right;\n",
              "    }\n",
              "</style>\n",
              "<table border=\"1\" class=\"dataframe\">\n",
              "  <thead>\n",
              "    <tr style=\"text-align: right;\">\n",
              "      <th></th>\n",
              "      <th>show_id</th>\n",
              "      <th>type</th>\n",
              "      <th>title</th>\n",
              "      <th>director</th>\n",
              "      <th>cast</th>\n",
              "      <th>country</th>\n",
              "      <th>date_added</th>\n",
              "      <th>release_year</th>\n",
              "      <th>rating</th>\n",
              "      <th>duration</th>\n",
              "      <th>listed_in</th>\n",
              "      <th>description</th>\n",
              "    </tr>\n",
              "  </thead>\n",
              "  <tbody>\n",
              "    <tr>\n",
              "      <th>0</th>\n",
              "      <td>s1</td>\n",
              "      <td>Movie</td>\n",
              "      <td>Dick Johnson Is Dead</td>\n",
              "      <td>Kirsten Johnson</td>\n",
              "      <td>NaN</td>\n",
              "      <td>United States</td>\n",
              "      <td>September 25, 2021</td>\n",
              "      <td>2020</td>\n",
              "      <td>PG-13</td>\n",
              "      <td>90 min</td>\n",
              "      <td>Documentaries</td>\n",
              "      <td>As her father nears the end of his life, filmm...</td>\n",
              "    </tr>\n",
              "    <tr>\n",
              "      <th>1</th>\n",
              "      <td>s2</td>\n",
              "      <td>TV Show</td>\n",
              "      <td>Blood &amp; Water</td>\n",
              "      <td>NaN</td>\n",
              "      <td>Ama Qamata, Khosi Ngema, Gail Mabalane, Thaban...</td>\n",
              "      <td>South Africa</td>\n",
              "      <td>September 24, 2021</td>\n",
              "      <td>2021</td>\n",
              "      <td>TV-MA</td>\n",
              "      <td>2 Seasons</td>\n",
              "      <td>International TV Shows, TV Dramas, TV Mysteries</td>\n",
              "      <td>After crossing paths at a party, a Cape Town t...</td>\n",
              "    </tr>\n",
              "    <tr>\n",
              "      <th>2</th>\n",
              "      <td>s3</td>\n",
              "      <td>TV Show</td>\n",
              "      <td>Ganglands</td>\n",
              "      <td>Julien Leclercq</td>\n",
              "      <td>Sami Bouajila, Tracy Gotoas, Samuel Jouy, Nabi...</td>\n",
              "      <td>NaN</td>\n",
              "      <td>September 24, 2021</td>\n",
              "      <td>2021</td>\n",
              "      <td>TV-MA</td>\n",
              "      <td>1 Season</td>\n",
              "      <td>Crime TV Shows, International TV Shows, TV Act...</td>\n",
              "      <td>To protect his family from a powerful drug lor...</td>\n",
              "    </tr>\n",
              "    <tr>\n",
              "      <th>3</th>\n",
              "      <td>s4</td>\n",
              "      <td>TV Show</td>\n",
              "      <td>Jailbirds New Orleans</td>\n",
              "      <td>NaN</td>\n",
              "      <td>NaN</td>\n",
              "      <td>NaN</td>\n",
              "      <td>September 24, 2021</td>\n",
              "      <td>2021</td>\n",
              "      <td>TV-MA</td>\n",
              "      <td>1 Season</td>\n",
              "      <td>Docuseries, Reality TV</td>\n",
              "      <td>Feuds, flirtations and toilet talk go down amo...</td>\n",
              "    </tr>\n",
              "    <tr>\n",
              "      <th>4</th>\n",
              "      <td>s5</td>\n",
              "      <td>TV Show</td>\n",
              "      <td>Kota Factory</td>\n",
              "      <td>NaN</td>\n",
              "      <td>Mayur More, Jitendra Kumar, Ranjan Raj, Alam K...</td>\n",
              "      <td>India</td>\n",
              "      <td>September 24, 2021</td>\n",
              "      <td>2021</td>\n",
              "      <td>TV-MA</td>\n",
              "      <td>2 Seasons</td>\n",
              "      <td>International TV Shows, Romantic TV Shows, TV ...</td>\n",
              "      <td>In a city of coaching centers known to train I...</td>\n",
              "    </tr>\n",
              "    <tr>\n",
              "      <th>...</th>\n",
              "      <td>...</td>\n",
              "      <td>...</td>\n",
              "      <td>...</td>\n",
              "      <td>...</td>\n",
              "      <td>...</td>\n",
              "      <td>...</td>\n",
              "      <td>...</td>\n",
              "      <td>...</td>\n",
              "      <td>...</td>\n",
              "      <td>...</td>\n",
              "      <td>...</td>\n",
              "      <td>...</td>\n",
              "    </tr>\n",
              "    <tr>\n",
              "      <th>8802</th>\n",
              "      <td>s8803</td>\n",
              "      <td>Movie</td>\n",
              "      <td>Zodiac</td>\n",
              "      <td>David Fincher</td>\n",
              "      <td>Mark Ruffalo, Jake Gyllenhaal, Robert Downey J...</td>\n",
              "      <td>United States</td>\n",
              "      <td>November 20, 2019</td>\n",
              "      <td>2007</td>\n",
              "      <td>R</td>\n",
              "      <td>158 min</td>\n",
              "      <td>Cult Movies, Dramas, Thrillers</td>\n",
              "      <td>A political cartoonist, a crime reporter and a...</td>\n",
              "    </tr>\n",
              "    <tr>\n",
              "      <th>8803</th>\n",
              "      <td>s8804</td>\n",
              "      <td>TV Show</td>\n",
              "      <td>Zombie Dumb</td>\n",
              "      <td>NaN</td>\n",
              "      <td>NaN</td>\n",
              "      <td>NaN</td>\n",
              "      <td>July 1, 2019</td>\n",
              "      <td>2018</td>\n",
              "      <td>TV-Y7</td>\n",
              "      <td>2 Seasons</td>\n",
              "      <td>Kids' TV, Korean TV Shows, TV Comedies</td>\n",
              "      <td>While living alone in a spooky town, a young g...</td>\n",
              "    </tr>\n",
              "    <tr>\n",
              "      <th>8804</th>\n",
              "      <td>s8805</td>\n",
              "      <td>Movie</td>\n",
              "      <td>Zombieland</td>\n",
              "      <td>Ruben Fleischer</td>\n",
              "      <td>Jesse Eisenberg, Woody Harrelson, Emma Stone, ...</td>\n",
              "      <td>United States</td>\n",
              "      <td>November 1, 2019</td>\n",
              "      <td>2009</td>\n",
              "      <td>R</td>\n",
              "      <td>88 min</td>\n",
              "      <td>Comedies, Horror Movies</td>\n",
              "      <td>Looking to survive in a world taken over by zo...</td>\n",
              "    </tr>\n",
              "    <tr>\n",
              "      <th>8805</th>\n",
              "      <td>s8806</td>\n",
              "      <td>Movie</td>\n",
              "      <td>Zoom</td>\n",
              "      <td>Peter Hewitt</td>\n",
              "      <td>Tim Allen, Courteney Cox, Chevy Chase, Kate Ma...</td>\n",
              "      <td>United States</td>\n",
              "      <td>January 11, 2020</td>\n",
              "      <td>2006</td>\n",
              "      <td>PG</td>\n",
              "      <td>88 min</td>\n",
              "      <td>Children &amp; Family Movies, Comedies</td>\n",
              "      <td>Dragged from civilian life, a former superhero...</td>\n",
              "    </tr>\n",
              "    <tr>\n",
              "      <th>8806</th>\n",
              "      <td>s8807</td>\n",
              "      <td>Movie</td>\n",
              "      <td>Zubaan</td>\n",
              "      <td>Mozez Singh</td>\n",
              "      <td>Vicky Kaushal, Sarah-Jane Dias, Raaghav Chanan...</td>\n",
              "      <td>India</td>\n",
              "      <td>March 2, 2019</td>\n",
              "      <td>2015</td>\n",
              "      <td>TV-14</td>\n",
              "      <td>111 min</td>\n",
              "      <td>Dramas, International Movies, Music &amp; Musicals</td>\n",
              "      <td>A scrappy but poor boy worms his way into a ty...</td>\n",
              "    </tr>\n",
              "  </tbody>\n",
              "</table>\n",
              "<p>8807 rows × 12 columns</p>\n",
              "</div>"
            ],
            "text/plain": [
              "     show_id     type                  title         director  \\\n",
              "0         s1    Movie   Dick Johnson Is Dead  Kirsten Johnson   \n",
              "1         s2  TV Show          Blood & Water              NaN   \n",
              "2         s3  TV Show              Ganglands  Julien Leclercq   \n",
              "3         s4  TV Show  Jailbirds New Orleans              NaN   \n",
              "4         s5  TV Show           Kota Factory              NaN   \n",
              "...      ...      ...                    ...              ...   \n",
              "8802   s8803    Movie                 Zodiac    David Fincher   \n",
              "8803   s8804  TV Show            Zombie Dumb              NaN   \n",
              "8804   s8805    Movie             Zombieland  Ruben Fleischer   \n",
              "8805   s8806    Movie                   Zoom     Peter Hewitt   \n",
              "8806   s8807    Movie                 Zubaan      Mozez Singh   \n",
              "\n",
              "                                                   cast        country  \\\n",
              "0                                                   NaN  United States   \n",
              "1     Ama Qamata, Khosi Ngema, Gail Mabalane, Thaban...   South Africa   \n",
              "2     Sami Bouajila, Tracy Gotoas, Samuel Jouy, Nabi...            NaN   \n",
              "3                                                   NaN            NaN   \n",
              "4     Mayur More, Jitendra Kumar, Ranjan Raj, Alam K...          India   \n",
              "...                                                 ...            ...   \n",
              "8802  Mark Ruffalo, Jake Gyllenhaal, Robert Downey J...  United States   \n",
              "8803                                                NaN            NaN   \n",
              "8804  Jesse Eisenberg, Woody Harrelson, Emma Stone, ...  United States   \n",
              "8805  Tim Allen, Courteney Cox, Chevy Chase, Kate Ma...  United States   \n",
              "8806  Vicky Kaushal, Sarah-Jane Dias, Raaghav Chanan...          India   \n",
              "\n",
              "              date_added  release_year rating   duration  \\\n",
              "0     September 25, 2021          2020  PG-13     90 min   \n",
              "1     September 24, 2021          2021  TV-MA  2 Seasons   \n",
              "2     September 24, 2021          2021  TV-MA   1 Season   \n",
              "3     September 24, 2021          2021  TV-MA   1 Season   \n",
              "4     September 24, 2021          2021  TV-MA  2 Seasons   \n",
              "...                  ...           ...    ...        ...   \n",
              "8802   November 20, 2019          2007      R    158 min   \n",
              "8803        July 1, 2019          2018  TV-Y7  2 Seasons   \n",
              "8804    November 1, 2019          2009      R     88 min   \n",
              "8805    January 11, 2020          2006     PG     88 min   \n",
              "8806       March 2, 2019          2015  TV-14    111 min   \n",
              "\n",
              "                                              listed_in  \\\n",
              "0                                         Documentaries   \n",
              "1       International TV Shows, TV Dramas, TV Mysteries   \n",
              "2     Crime TV Shows, International TV Shows, TV Act...   \n",
              "3                                Docuseries, Reality TV   \n",
              "4     International TV Shows, Romantic TV Shows, TV ...   \n",
              "...                                                 ...   \n",
              "8802                     Cult Movies, Dramas, Thrillers   \n",
              "8803             Kids' TV, Korean TV Shows, TV Comedies   \n",
              "8804                            Comedies, Horror Movies   \n",
              "8805                 Children & Family Movies, Comedies   \n",
              "8806     Dramas, International Movies, Music & Musicals   \n",
              "\n",
              "                                            description  \n",
              "0     As her father nears the end of his life, filmm...  \n",
              "1     After crossing paths at a party, a Cape Town t...  \n",
              "2     To protect his family from a powerful drug lor...  \n",
              "3     Feuds, flirtations and toilet talk go down amo...  \n",
              "4     In a city of coaching centers known to train I...  \n",
              "...                                                 ...  \n",
              "8802  A political cartoonist, a crime reporter and a...  \n",
              "8803  While living alone in a spooky town, a young g...  \n",
              "8804  Looking to survive in a world taken over by zo...  \n",
              "8805  Dragged from civilian life, a former superhero...  \n",
              "8806  A scrappy but poor boy worms his way into a ty...  \n",
              "\n",
              "[8807 rows x 12 columns]"
            ]
          },
          "execution_count": 317,
          "metadata": {},
          "output_type": "execute_result"
        }
      ],
      "source": [
        "df = pd.read_csv('/Users/samiashaukat/Documents/AtomCamp DS BC/Python /11 Netflix_dataset Case Study.csv')\n",
        "#to get rid of automatic indexing write index=False\n",
        "\n",
        "df"
      ]
    },
    {
      "cell_type": "markdown",
      "id": "eef7f967-71f2-4006-bf8e-dc9348877630",
      "metadata": {
        "id": "eef7f967-71f2-4006-bf8e-dc9348877630"
      },
      "source": [
        "## 3. Basic Observations like,\n",
        "a) shape of the data set\n",
        "b) checking a few rows\n",
        "c) count of the non-null values\n",
        "d) unique values of each column and\n",
        "e) detailed description of numerical and categorical columns."
      ]
    },
    {
      "cell_type": "code",
      "execution_count": null,
      "id": "c0b7c63f-6f9f-4488-b2eb-e61c4c44bb63",
      "metadata": {
        "scrolled": true,
        "id": "c0b7c63f-6f9f-4488-b2eb-e61c4c44bb63",
        "outputId": "89f5c8dd-151a-4f11-e022-8e5c8a5494a7"
      },
      "outputs": [
        {
          "data": {
            "text/plain": [
              "(8807, 12)"
            ]
          },
          "execution_count": 319,
          "metadata": {},
          "output_type": "execute_result"
        }
      ],
      "source": [
        "df.shape"
      ]
    },
    {
      "cell_type": "code",
      "execution_count": null,
      "id": "3accd291-7a8a-4c96-822f-67fca8da2c85",
      "metadata": {
        "scrolled": true,
        "id": "3accd291-7a8a-4c96-822f-67fca8da2c85",
        "outputId": "3a27219a-8150-4b6f-c415-93174c7a05b8"
      },
      "outputs": [
        {
          "data": {
            "text/html": [
              "<div>\n",
              "<style scoped>\n",
              "    .dataframe tbody tr th:only-of-type {\n",
              "        vertical-align: middle;\n",
              "    }\n",
              "\n",
              "    .dataframe tbody tr th {\n",
              "        vertical-align: top;\n",
              "    }\n",
              "\n",
              "    .dataframe thead th {\n",
              "        text-align: right;\n",
              "    }\n",
              "</style>\n",
              "<table border=\"1\" class=\"dataframe\">\n",
              "  <thead>\n",
              "    <tr style=\"text-align: right;\">\n",
              "      <th></th>\n",
              "      <th>show_id</th>\n",
              "      <th>type</th>\n",
              "      <th>title</th>\n",
              "      <th>director</th>\n",
              "      <th>cast</th>\n",
              "      <th>country</th>\n",
              "      <th>date_added</th>\n",
              "      <th>release_year</th>\n",
              "      <th>rating</th>\n",
              "      <th>duration</th>\n",
              "      <th>listed_in</th>\n",
              "      <th>description</th>\n",
              "    </tr>\n",
              "  </thead>\n",
              "  <tbody>\n",
              "    <tr>\n",
              "      <th>0</th>\n",
              "      <td>s1</td>\n",
              "      <td>Movie</td>\n",
              "      <td>Dick Johnson Is Dead</td>\n",
              "      <td>Kirsten Johnson</td>\n",
              "      <td>NaN</td>\n",
              "      <td>United States</td>\n",
              "      <td>September 25, 2021</td>\n",
              "      <td>2020</td>\n",
              "      <td>PG-13</td>\n",
              "      <td>90 min</td>\n",
              "      <td>Documentaries</td>\n",
              "      <td>As her father nears the end of his life, filmm...</td>\n",
              "    </tr>\n",
              "    <tr>\n",
              "      <th>1</th>\n",
              "      <td>s2</td>\n",
              "      <td>TV Show</td>\n",
              "      <td>Blood &amp; Water</td>\n",
              "      <td>NaN</td>\n",
              "      <td>Ama Qamata, Khosi Ngema, Gail Mabalane, Thaban...</td>\n",
              "      <td>South Africa</td>\n",
              "      <td>September 24, 2021</td>\n",
              "      <td>2021</td>\n",
              "      <td>TV-MA</td>\n",
              "      <td>2 Seasons</td>\n",
              "      <td>International TV Shows, TV Dramas, TV Mysteries</td>\n",
              "      <td>After crossing paths at a party, a Cape Town t...</td>\n",
              "    </tr>\n",
              "    <tr>\n",
              "      <th>2</th>\n",
              "      <td>s3</td>\n",
              "      <td>TV Show</td>\n",
              "      <td>Ganglands</td>\n",
              "      <td>Julien Leclercq</td>\n",
              "      <td>Sami Bouajila, Tracy Gotoas, Samuel Jouy, Nabi...</td>\n",
              "      <td>NaN</td>\n",
              "      <td>September 24, 2021</td>\n",
              "      <td>2021</td>\n",
              "      <td>TV-MA</td>\n",
              "      <td>1 Season</td>\n",
              "      <td>Crime TV Shows, International TV Shows, TV Act...</td>\n",
              "      <td>To protect his family from a powerful drug lor...</td>\n",
              "    </tr>\n",
              "    <tr>\n",
              "      <th>3</th>\n",
              "      <td>s4</td>\n",
              "      <td>TV Show</td>\n",
              "      <td>Jailbirds New Orleans</td>\n",
              "      <td>NaN</td>\n",
              "      <td>NaN</td>\n",
              "      <td>NaN</td>\n",
              "      <td>September 24, 2021</td>\n",
              "      <td>2021</td>\n",
              "      <td>TV-MA</td>\n",
              "      <td>1 Season</td>\n",
              "      <td>Docuseries, Reality TV</td>\n",
              "      <td>Feuds, flirtations and toilet talk go down amo...</td>\n",
              "    </tr>\n",
              "    <tr>\n",
              "      <th>4</th>\n",
              "      <td>s5</td>\n",
              "      <td>TV Show</td>\n",
              "      <td>Kota Factory</td>\n",
              "      <td>NaN</td>\n",
              "      <td>Mayur More, Jitendra Kumar, Ranjan Raj, Alam K...</td>\n",
              "      <td>India</td>\n",
              "      <td>September 24, 2021</td>\n",
              "      <td>2021</td>\n",
              "      <td>TV-MA</td>\n",
              "      <td>2 Seasons</td>\n",
              "      <td>International TV Shows, Romantic TV Shows, TV ...</td>\n",
              "      <td>In a city of coaching centers known to train I...</td>\n",
              "    </tr>\n",
              "  </tbody>\n",
              "</table>\n",
              "</div>"
            ],
            "text/plain": [
              "  show_id     type                  title         director  \\\n",
              "0      s1    Movie   Dick Johnson Is Dead  Kirsten Johnson   \n",
              "1      s2  TV Show          Blood & Water              NaN   \n",
              "2      s3  TV Show              Ganglands  Julien Leclercq   \n",
              "3      s4  TV Show  Jailbirds New Orleans              NaN   \n",
              "4      s5  TV Show           Kota Factory              NaN   \n",
              "\n",
              "                                                cast        country  \\\n",
              "0                                                NaN  United States   \n",
              "1  Ama Qamata, Khosi Ngema, Gail Mabalane, Thaban...   South Africa   \n",
              "2  Sami Bouajila, Tracy Gotoas, Samuel Jouy, Nabi...            NaN   \n",
              "3                                                NaN            NaN   \n",
              "4  Mayur More, Jitendra Kumar, Ranjan Raj, Alam K...          India   \n",
              "\n",
              "           date_added  release_year rating   duration  \\\n",
              "0  September 25, 2021          2020  PG-13     90 min   \n",
              "1  September 24, 2021          2021  TV-MA  2 Seasons   \n",
              "2  September 24, 2021          2021  TV-MA   1 Season   \n",
              "3  September 24, 2021          2021  TV-MA   1 Season   \n",
              "4  September 24, 2021          2021  TV-MA  2 Seasons   \n",
              "\n",
              "                                           listed_in  \\\n",
              "0                                      Documentaries   \n",
              "1    International TV Shows, TV Dramas, TV Mysteries   \n",
              "2  Crime TV Shows, International TV Shows, TV Act...   \n",
              "3                             Docuseries, Reality TV   \n",
              "4  International TV Shows, Romantic TV Shows, TV ...   \n",
              "\n",
              "                                         description  \n",
              "0  As her father nears the end of his life, filmm...  \n",
              "1  After crossing paths at a party, a Cape Town t...  \n",
              "2  To protect his family from a powerful drug lor...  \n",
              "3  Feuds, flirtations and toilet talk go down amo...  \n",
              "4  In a city of coaching centers known to train I...  "
            ]
          },
          "execution_count": 321,
          "metadata": {},
          "output_type": "execute_result"
        }
      ],
      "source": [
        "df.head()"
      ]
    },
    {
      "cell_type": "code",
      "execution_count": null,
      "id": "0b2e6acc-6f4d-4954-8ee7-318bf20c291a",
      "metadata": {
        "id": "0b2e6acc-6f4d-4954-8ee7-318bf20c291a",
        "outputId": "cfe15c9f-de88-4e5d-83c4-846846029f10"
      },
      "outputs": [
        {
          "name": "stdout",
          "output_type": "stream",
          "text": [
            "<class 'pandas.core.frame.DataFrame'>\n",
            "RangeIndex: 8807 entries, 0 to 8806\n",
            "Data columns (total 12 columns):\n",
            " #   Column        Non-Null Count  Dtype \n",
            "---  ------        --------------  ----- \n",
            " 0   show_id       8807 non-null   object\n",
            " 1   type          8807 non-null   object\n",
            " 2   title         8807 non-null   object\n",
            " 3   director      6173 non-null   object\n",
            " 4   cast          7982 non-null   object\n",
            " 5   country       7976 non-null   object\n",
            " 6   date_added    8797 non-null   object\n",
            " 7   release_year  8807 non-null   int64 \n",
            " 8   rating        8803 non-null   object\n",
            " 9   duration      8804 non-null   object\n",
            " 10  listed_in     8807 non-null   object\n",
            " 11  description   8807 non-null   object\n",
            "dtypes: int64(1), object(11)\n",
            "memory usage: 825.8+ KB\n"
          ]
        }
      ],
      "source": [
        "df.info()   #object-strings, mix of numbers, special charaters etc"
      ]
    },
    {
      "cell_type": "code",
      "execution_count": null,
      "id": "c725f19f-9318-425f-99e3-5bf13dcacded",
      "metadata": {
        "id": "c725f19f-9318-425f-99e3-5bf13dcacded",
        "outputId": "a2c489e3-d61e-4cc0-f327-2a42115d1bda"
      },
      "outputs": [
        {
          "data": {
            "text/plain": [
              "show_id         8807\n",
              "type               2\n",
              "title           8807\n",
              "director        4528\n",
              "cast            7692\n",
              "country          748\n",
              "date_added      1767\n",
              "release_year      74\n",
              "rating            17\n",
              "duration         220\n",
              "listed_in        514\n",
              "description     8775\n",
              "dtype: int64"
            ]
          },
          "execution_count": 325,
          "metadata": {},
          "output_type": "execute_result"
        }
      ],
      "source": [
        "df.nunique()\n",
        "#Counts the number of unique values in each column of the DataFrame."
      ]
    },
    {
      "cell_type": "code",
      "execution_count": null,
      "id": "c813fc48-56b3-4856-bb02-d77854a15372",
      "metadata": {
        "id": "c813fc48-56b3-4856-bb02-d77854a15372",
        "outputId": "3bf6ce60-4a6b-475b-94bd-87f2c3235e02"
      },
      "outputs": [
        {
          "data": {
            "text/html": [
              "<div>\n",
              "<style scoped>\n",
              "    .dataframe tbody tr th:only-of-type {\n",
              "        vertical-align: middle;\n",
              "    }\n",
              "\n",
              "    .dataframe tbody tr th {\n",
              "        vertical-align: top;\n",
              "    }\n",
              "\n",
              "    .dataframe thead th {\n",
              "        text-align: right;\n",
              "    }\n",
              "</style>\n",
              "<table border=\"1\" class=\"dataframe\">\n",
              "  <thead>\n",
              "    <tr style=\"text-align: right;\">\n",
              "      <th></th>\n",
              "      <th>release_year</th>\n",
              "    </tr>\n",
              "  </thead>\n",
              "  <tbody>\n",
              "    <tr>\n",
              "      <th>count</th>\n",
              "      <td>8807.000000</td>\n",
              "    </tr>\n",
              "    <tr>\n",
              "      <th>mean</th>\n",
              "      <td>2014.180198</td>\n",
              "    </tr>\n",
              "    <tr>\n",
              "      <th>std</th>\n",
              "      <td>8.819312</td>\n",
              "    </tr>\n",
              "    <tr>\n",
              "      <th>min</th>\n",
              "      <td>1925.000000</td>\n",
              "    </tr>\n",
              "    <tr>\n",
              "      <th>25%</th>\n",
              "      <td>2013.000000</td>\n",
              "    </tr>\n",
              "    <tr>\n",
              "      <th>50%</th>\n",
              "      <td>2017.000000</td>\n",
              "    </tr>\n",
              "    <tr>\n",
              "      <th>75%</th>\n",
              "      <td>2019.000000</td>\n",
              "    </tr>\n",
              "    <tr>\n",
              "      <th>max</th>\n",
              "      <td>2021.000000</td>\n",
              "    </tr>\n",
              "  </tbody>\n",
              "</table>\n",
              "</div>"
            ],
            "text/plain": [
              "       release_year\n",
              "count   8807.000000\n",
              "mean    2014.180198\n",
              "std        8.819312\n",
              "min     1925.000000\n",
              "25%     2013.000000\n",
              "50%     2017.000000\n",
              "75%     2019.000000\n",
              "max     2021.000000"
            ]
          },
          "execution_count": 327,
          "metadata": {},
          "output_type": "execute_result"
        }
      ],
      "source": [
        "df.describe()"
      ]
    },
    {
      "cell_type": "code",
      "execution_count": null,
      "id": "bc73d24a-716e-423d-b67f-c070957b6f43",
      "metadata": {
        "scrolled": true,
        "id": "bc73d24a-716e-423d-b67f-c070957b6f43",
        "outputId": "19a2523f-836d-4658-f8ed-87b537fc8c18"
      },
      "outputs": [
        {
          "data": {
            "text/html": [
              "<div>\n",
              "<style scoped>\n",
              "    .dataframe tbody tr th:only-of-type {\n",
              "        vertical-align: middle;\n",
              "    }\n",
              "\n",
              "    .dataframe tbody tr th {\n",
              "        vertical-align: top;\n",
              "    }\n",
              "\n",
              "    .dataframe thead th {\n",
              "        text-align: right;\n",
              "    }\n",
              "</style>\n",
              "<table border=\"1\" class=\"dataframe\">\n",
              "  <thead>\n",
              "    <tr style=\"text-align: right;\">\n",
              "      <th></th>\n",
              "      <th>show_id</th>\n",
              "      <th>type</th>\n",
              "      <th>title</th>\n",
              "      <th>director</th>\n",
              "      <th>cast</th>\n",
              "      <th>country</th>\n",
              "      <th>date_added</th>\n",
              "      <th>rating</th>\n",
              "      <th>duration</th>\n",
              "      <th>listed_in</th>\n",
              "      <th>description</th>\n",
              "    </tr>\n",
              "  </thead>\n",
              "  <tbody>\n",
              "    <tr>\n",
              "      <th>count</th>\n",
              "      <td>8807</td>\n",
              "      <td>8807</td>\n",
              "      <td>8807</td>\n",
              "      <td>6173</td>\n",
              "      <td>7982</td>\n",
              "      <td>7976</td>\n",
              "      <td>8797</td>\n",
              "      <td>8803</td>\n",
              "      <td>8804</td>\n",
              "      <td>8807</td>\n",
              "      <td>8807</td>\n",
              "    </tr>\n",
              "    <tr>\n",
              "      <th>unique</th>\n",
              "      <td>8807</td>\n",
              "      <td>2</td>\n",
              "      <td>8807</td>\n",
              "      <td>4528</td>\n",
              "      <td>7692</td>\n",
              "      <td>748</td>\n",
              "      <td>1767</td>\n",
              "      <td>17</td>\n",
              "      <td>220</td>\n",
              "      <td>514</td>\n",
              "      <td>8775</td>\n",
              "    </tr>\n",
              "    <tr>\n",
              "      <th>top</th>\n",
              "      <td>s1</td>\n",
              "      <td>Movie</td>\n",
              "      <td>Dick Johnson Is Dead</td>\n",
              "      <td>Rajiv Chilaka</td>\n",
              "      <td>David Attenborough</td>\n",
              "      <td>United States</td>\n",
              "      <td>January 1, 2020</td>\n",
              "      <td>TV-MA</td>\n",
              "      <td>1 Season</td>\n",
              "      <td>Dramas, International Movies</td>\n",
              "      <td>Paranormal activity at a lush, abandoned prope...</td>\n",
              "    </tr>\n",
              "    <tr>\n",
              "      <th>freq</th>\n",
              "      <td>1</td>\n",
              "      <td>6131</td>\n",
              "      <td>1</td>\n",
              "      <td>19</td>\n",
              "      <td>19</td>\n",
              "      <td>2818</td>\n",
              "      <td>109</td>\n",
              "      <td>3207</td>\n",
              "      <td>1793</td>\n",
              "      <td>362</td>\n",
              "      <td>4</td>\n",
              "    </tr>\n",
              "  </tbody>\n",
              "</table>\n",
              "</div>"
            ],
            "text/plain": [
              "       show_id   type                 title       director  \\\n",
              "count     8807   8807                  8807           6173   \n",
              "unique    8807      2                  8807           4528   \n",
              "top         s1  Movie  Dick Johnson Is Dead  Rajiv Chilaka   \n",
              "freq         1   6131                     1             19   \n",
              "\n",
              "                      cast        country       date_added rating  duration  \\\n",
              "count                 7982           7976             8797   8803      8804   \n",
              "unique                7692            748             1767     17       220   \n",
              "top     David Attenborough  United States  January 1, 2020  TV-MA  1 Season   \n",
              "freq                    19           2818              109   3207      1793   \n",
              "\n",
              "                           listed_in  \\\n",
              "count                           8807   \n",
              "unique                           514   \n",
              "top     Dramas, International Movies   \n",
              "freq                             362   \n",
              "\n",
              "                                              description  \n",
              "count                                                8807  \n",
              "unique                                               8775  \n",
              "top     Paranormal activity at a lush, abandoned prope...  \n",
              "freq                                                    4  "
            ]
          },
          "execution_count": 329,
          "metadata": {},
          "output_type": "execute_result"
        }
      ],
      "source": [
        "df.describe(include = object)"
      ]
    },
    {
      "cell_type": "markdown",
      "id": "1d83230f-d8d9-4099-b69f-4a8d11fa18ca",
      "metadata": {
        "id": "1d83230f-d8d9-4099-b69f-4a8d11fa18ca"
      },
      "source": [
        "#### 4. Data Cleaning\n",
        "a) Overall null values in each column\n",
        "b) Impute null values using fillna() method\n",
        "c) Replace the wrong entries in rating column\n",
        "d) Change the datatype of date_added column from object to datetime using pandas function to_datetime()\n",
        "e) Check the types of content present in dataset (Hint unique values of type col)"
      ]
    },
    {
      "cell_type": "code",
      "execution_count": null,
      "id": "2587376f-e7a9-474d-bc8c-95e4d7837bd1",
      "metadata": {
        "scrolled": true,
        "id": "2587376f-e7a9-474d-bc8c-95e4d7837bd1",
        "outputId": "364ad101-bd67-40fa-e8fc-96bcd78c2ad4"
      },
      "outputs": [
        {
          "data": {
            "text/plain": [
              "<bound method DataFrame.sum of       show_id   type  title  director   cast  country  date_added  \\\n",
              "0       False  False  False     False   True    False       False   \n",
              "1       False  False  False      True  False    False       False   \n",
              "2       False  False  False     False  False     True       False   \n",
              "3       False  False  False      True   True     True       False   \n",
              "4       False  False  False      True  False    False       False   \n",
              "...       ...    ...    ...       ...    ...      ...         ...   \n",
              "8802    False  False  False     False  False    False       False   \n",
              "8803    False  False  False      True   True     True       False   \n",
              "8804    False  False  False     False  False    False       False   \n",
              "8805    False  False  False     False  False    False       False   \n",
              "8806    False  False  False     False  False    False       False   \n",
              "\n",
              "      release_year  rating  duration  listed_in  description  \n",
              "0            False   False     False      False        False  \n",
              "1            False   False     False      False        False  \n",
              "2            False   False     False      False        False  \n",
              "3            False   False     False      False        False  \n",
              "4            False   False     False      False        False  \n",
              "...            ...     ...       ...        ...          ...  \n",
              "8802         False   False     False      False        False  \n",
              "8803         False   False     False      False        False  \n",
              "8804         False   False     False      False        False  \n",
              "8805         False   False     False      False        False  \n",
              "8806         False   False     False      False        False  \n",
              "\n",
              "[8807 rows x 12 columns]>"
            ]
          },
          "execution_count": 331,
          "metadata": {},
          "output_type": "execute_result"
        }
      ],
      "source": [
        "df.isna().sum\n",
        "#isnull return bolean values. This tells us the number of missing values in each column"
      ]
    },
    {
      "cell_type": "code",
      "execution_count": null,
      "id": "582218f4-b50b-4a42-bc1f-1a2f986e27ce",
      "metadata": {
        "scrolled": true,
        "id": "582218f4-b50b-4a42-bc1f-1a2f986e27ce",
        "outputId": "953164b1-8e3a-4476-9a40-7434c5550fc6"
      },
      "outputs": [
        {
          "data": {
            "text/html": [
              "<div>\n",
              "<style scoped>\n",
              "    .dataframe tbody tr th:only-of-type {\n",
              "        vertical-align: middle;\n",
              "    }\n",
              "\n",
              "    .dataframe tbody tr th {\n",
              "        vertical-align: top;\n",
              "    }\n",
              "\n",
              "    .dataframe thead th {\n",
              "        text-align: right;\n",
              "    }\n",
              "</style>\n",
              "<table border=\"1\" class=\"dataframe\">\n",
              "  <thead>\n",
              "    <tr style=\"text-align: right;\">\n",
              "      <th></th>\n",
              "      <th>show_id</th>\n",
              "      <th>type</th>\n",
              "      <th>title</th>\n",
              "      <th>director</th>\n",
              "      <th>cast</th>\n",
              "      <th>country</th>\n",
              "      <th>date_added</th>\n",
              "      <th>release_year</th>\n",
              "      <th>rating</th>\n",
              "      <th>duration</th>\n",
              "      <th>listed_in</th>\n",
              "      <th>description</th>\n",
              "    </tr>\n",
              "  </thead>\n",
              "  <tbody>\n",
              "    <tr>\n",
              "      <th>5541</th>\n",
              "      <td>s5542</td>\n",
              "      <td>Movie</td>\n",
              "      <td>Louis C.K. 2017</td>\n",
              "      <td>Louis C.K.</td>\n",
              "      <td>Louis C.K.</td>\n",
              "      <td>United States</td>\n",
              "      <td>April 4, 2017</td>\n",
              "      <td>2017</td>\n",
              "      <td>74 min</td>\n",
              "      <td>NaN</td>\n",
              "      <td>Movies</td>\n",
              "      <td>Louis C.K. muses on religion, eternal love, gi...</td>\n",
              "    </tr>\n",
              "    <tr>\n",
              "      <th>5794</th>\n",
              "      <td>s5795</td>\n",
              "      <td>Movie</td>\n",
              "      <td>Louis C.K.: Hilarious</td>\n",
              "      <td>Louis C.K.</td>\n",
              "      <td>Louis C.K.</td>\n",
              "      <td>United States</td>\n",
              "      <td>September 16, 2016</td>\n",
              "      <td>2010</td>\n",
              "      <td>84 min</td>\n",
              "      <td>NaN</td>\n",
              "      <td>Movies</td>\n",
              "      <td>Emmy-winning comedy writer Louis C.K. brings h...</td>\n",
              "    </tr>\n",
              "    <tr>\n",
              "      <th>5813</th>\n",
              "      <td>s5814</td>\n",
              "      <td>Movie</td>\n",
              "      <td>Louis C.K.: Live at the Comedy Store</td>\n",
              "      <td>Louis C.K.</td>\n",
              "      <td>Louis C.K.</td>\n",
              "      <td>United States</td>\n",
              "      <td>August 15, 2016</td>\n",
              "      <td>2015</td>\n",
              "      <td>66 min</td>\n",
              "      <td>NaN</td>\n",
              "      <td>Movies</td>\n",
              "      <td>The comic puts his trademark hilarious/thought...</td>\n",
              "    </tr>\n",
              "  </tbody>\n",
              "</table>\n",
              "</div>"
            ],
            "text/plain": [
              "     show_id   type                                 title    director  \\\n",
              "5541   s5542  Movie                       Louis C.K. 2017  Louis C.K.   \n",
              "5794   s5795  Movie                 Louis C.K.: Hilarious  Louis C.K.   \n",
              "5813   s5814  Movie  Louis C.K.: Live at the Comedy Store  Louis C.K.   \n",
              "\n",
              "            cast        country          date_added  release_year  rating  \\\n",
              "5541  Louis C.K.  United States       April 4, 2017          2017  74 min   \n",
              "5794  Louis C.K.  United States  September 16, 2016          2010  84 min   \n",
              "5813  Louis C.K.  United States     August 15, 2016          2015  66 min   \n",
              "\n",
              "     duration listed_in                                        description  \n",
              "5541      NaN    Movies  Louis C.K. muses on religion, eternal love, gi...  \n",
              "5794      NaN    Movies  Emmy-winning comedy writer Louis C.K. brings h...  \n",
              "5813      NaN    Movies  The comic puts his trademark hilarious/thought...  "
            ]
          },
          "execution_count": 333,
          "metadata": {},
          "output_type": "execute_result"
        }
      ],
      "source": [
        "df[df['duration'].isna()]  #To check null values of specific column"
      ]
    },
    {
      "cell_type": "code",
      "execution_count": null,
      "id": "08561d6f-b76b-4280-a0d3-954215c811c0",
      "metadata": {
        "id": "08561d6f-b76b-4280-a0d3-954215c811c0",
        "outputId": "de1acbef-01c0-4668-a311-14b240f42a72"
      },
      "outputs": [
        {
          "data": {
            "text/plain": [
              "Index([5541, 5794, 5813], dtype='int64')"
            ]
          },
          "execution_count": 335,
          "metadata": {},
          "output_type": "execute_result"
        }
      ],
      "source": [
        "ind = df[df['duration'].isna()].index\n",
        "ind\n",
        "\n",
        "#collecting list of indexes for null values in duration colum"
      ]
    },
    {
      "cell_type": "code",
      "execution_count": null,
      "id": "2c51ceb0-9cb0-4396-ad89-ad87c39af3ae",
      "metadata": {
        "id": "2c51ceb0-9cb0-4396-ad89-ad87c39af3ae"
      },
      "outputs": [],
      "source": [
        "df.loc[ind] = df.loc[ind].fillna(method = 'ffill', axis = 1)\n",
        "\n",
        "#ffill is forward fill. axis=1 for columns\n",
        "#The code fills in missing values within the specified rows (ind) of the DataFrame df.\n",
        "#The forward fill operation is performed across columns (left to right)."
      ]
    },
    {
      "cell_type": "code",
      "execution_count": null,
      "id": "b8f395aa-e026-4690-801b-d714eee461e2",
      "metadata": {
        "id": "b8f395aa-e026-4690-801b-d714eee461e2"
      },
      "outputs": [],
      "source": [
        "#replaced the wrong entries done in the rating coulmn\n",
        "df.loc[ind, 'rating'] = 'Not Available'"
      ]
    },
    {
      "cell_type": "code",
      "execution_count": null,
      "id": "9b80328a-9c51-440c-8e14-5bbf3f2e3098",
      "metadata": {
        "scrolled": true,
        "id": "9b80328a-9c51-440c-8e14-5bbf3f2e3098",
        "outputId": "c2567ff7-2a0b-4b43-f64d-20eae83b431a"
      },
      "outputs": [
        {
          "data": {
            "text/html": [
              "<div>\n",
              "<style scoped>\n",
              "    .dataframe tbody tr th:only-of-type {\n",
              "        vertical-align: middle;\n",
              "    }\n",
              "\n",
              "    .dataframe tbody tr th {\n",
              "        vertical-align: top;\n",
              "    }\n",
              "\n",
              "    .dataframe thead th {\n",
              "        text-align: right;\n",
              "    }\n",
              "</style>\n",
              "<table border=\"1\" class=\"dataframe\">\n",
              "  <thead>\n",
              "    <tr style=\"text-align: right;\">\n",
              "      <th></th>\n",
              "      <th>show_id</th>\n",
              "      <th>type</th>\n",
              "      <th>title</th>\n",
              "      <th>director</th>\n",
              "      <th>cast</th>\n",
              "      <th>country</th>\n",
              "      <th>date_added</th>\n",
              "      <th>release_year</th>\n",
              "      <th>rating</th>\n",
              "      <th>duration</th>\n",
              "      <th>listed_in</th>\n",
              "      <th>description</th>\n",
              "    </tr>\n",
              "  </thead>\n",
              "  <tbody>\n",
              "    <tr>\n",
              "      <th>5541</th>\n",
              "      <td>s5542</td>\n",
              "      <td>Movie</td>\n",
              "      <td>Louis C.K. 2017</td>\n",
              "      <td>Louis C.K.</td>\n",
              "      <td>Louis C.K.</td>\n",
              "      <td>United States</td>\n",
              "      <td>April 4, 2017</td>\n",
              "      <td>2017</td>\n",
              "      <td>Not Available</td>\n",
              "      <td>74 min</td>\n",
              "      <td>Movies</td>\n",
              "      <td>Louis C.K. muses on religion, eternal love, gi...</td>\n",
              "    </tr>\n",
              "    <tr>\n",
              "      <th>5794</th>\n",
              "      <td>s5795</td>\n",
              "      <td>Movie</td>\n",
              "      <td>Louis C.K.: Hilarious</td>\n",
              "      <td>Louis C.K.</td>\n",
              "      <td>Louis C.K.</td>\n",
              "      <td>United States</td>\n",
              "      <td>September 16, 2016</td>\n",
              "      <td>2010</td>\n",
              "      <td>Not Available</td>\n",
              "      <td>84 min</td>\n",
              "      <td>Movies</td>\n",
              "      <td>Emmy-winning comedy writer Louis C.K. brings h...</td>\n",
              "    </tr>\n",
              "    <tr>\n",
              "      <th>5813</th>\n",
              "      <td>s5814</td>\n",
              "      <td>Movie</td>\n",
              "      <td>Louis C.K.: Live at the Comedy Store</td>\n",
              "      <td>Louis C.K.</td>\n",
              "      <td>Louis C.K.</td>\n",
              "      <td>United States</td>\n",
              "      <td>August 15, 2016</td>\n",
              "      <td>2015</td>\n",
              "      <td>Not Available</td>\n",
              "      <td>66 min</td>\n",
              "      <td>Movies</td>\n",
              "      <td>The comic puts his trademark hilarious/thought...</td>\n",
              "    </tr>\n",
              "  </tbody>\n",
              "</table>\n",
              "</div>"
            ],
            "text/plain": [
              "     show_id   type                                 title    director  \\\n",
              "5541   s5542  Movie                       Louis C.K. 2017  Louis C.K.   \n",
              "5794   s5795  Movie                 Louis C.K.: Hilarious  Louis C.K.   \n",
              "5813   s5814  Movie  Louis C.K.: Live at the Comedy Store  Louis C.K.   \n",
              "\n",
              "            cast        country          date_added release_year  \\\n",
              "5541  Louis C.K.  United States       April 4, 2017         2017   \n",
              "5794  Louis C.K.  United States  September 16, 2016         2010   \n",
              "5813  Louis C.K.  United States     August 15, 2016         2015   \n",
              "\n",
              "             rating duration listed_in  \\\n",
              "5541  Not Available   74 min    Movies   \n",
              "5794  Not Available   84 min    Movies   \n",
              "5813  Not Available   66 min    Movies   \n",
              "\n",
              "                                            description  \n",
              "5541  Louis C.K. muses on religion, eternal love, gi...  \n",
              "5794  Emmy-winning comedy writer Louis C.K. brings h...  \n",
              "5813  The comic puts his trademark hilarious/thought...  "
            ]
          },
          "execution_count": 341,
          "metadata": {},
          "output_type": "execute_result"
        }
      ],
      "source": [
        "df.loc[ind]"
      ]
    },
    {
      "cell_type": "code",
      "execution_count": null,
      "id": "5c072ddf-289d-4e9b-a405-b5411391853c",
      "metadata": {
        "scrolled": true,
        "id": "5c072ddf-289d-4e9b-a405-b5411391853c",
        "outputId": "cab6b8f8-e8a7-4248-c544-23204989a870"
      },
      "outputs": [
        {
          "data": {
            "text/html": [
              "<div>\n",
              "<style scoped>\n",
              "    .dataframe tbody tr th:only-of-type {\n",
              "        vertical-align: middle;\n",
              "    }\n",
              "\n",
              "    .dataframe tbody tr th {\n",
              "        vertical-align: top;\n",
              "    }\n",
              "\n",
              "    .dataframe thead th {\n",
              "        text-align: right;\n",
              "    }\n",
              "</style>\n",
              "<table border=\"1\" class=\"dataframe\">\n",
              "  <thead>\n",
              "    <tr style=\"text-align: right;\">\n",
              "      <th></th>\n",
              "      <th>show_id</th>\n",
              "      <th>type</th>\n",
              "      <th>title</th>\n",
              "      <th>director</th>\n",
              "      <th>cast</th>\n",
              "      <th>country</th>\n",
              "      <th>date_added</th>\n",
              "      <th>release_year</th>\n",
              "      <th>rating</th>\n",
              "      <th>duration</th>\n",
              "      <th>listed_in</th>\n",
              "      <th>description</th>\n",
              "    </tr>\n",
              "  </thead>\n",
              "  <tbody>\n",
              "    <tr>\n",
              "      <th>5989</th>\n",
              "      <td>s5990</td>\n",
              "      <td>Movie</td>\n",
              "      <td>13TH: A Conversation with Oprah Winfrey &amp; Ava ...</td>\n",
              "      <td>NaN</td>\n",
              "      <td>Oprah Winfrey, Ava DuVernay</td>\n",
              "      <td>NaN</td>\n",
              "      <td>January 26, 2017</td>\n",
              "      <td>2017</td>\n",
              "      <td>NaN</td>\n",
              "      <td>37 min</td>\n",
              "      <td>Movies</td>\n",
              "      <td>Oprah Winfrey sits down with director Ava DuVe...</td>\n",
              "    </tr>\n",
              "    <tr>\n",
              "      <th>6827</th>\n",
              "      <td>s6828</td>\n",
              "      <td>TV Show</td>\n",
              "      <td>Gargantia on the Verdurous Planet</td>\n",
              "      <td>NaN</td>\n",
              "      <td>Kaito Ishikawa, Hisako Kanemoto, Ai Kayano, Ka...</td>\n",
              "      <td>Japan</td>\n",
              "      <td>December 1, 2016</td>\n",
              "      <td>2013</td>\n",
              "      <td>NaN</td>\n",
              "      <td>1 Season</td>\n",
              "      <td>Anime Series, International TV Shows</td>\n",
              "      <td>After falling through a wormhole, a space-dwel...</td>\n",
              "    </tr>\n",
              "    <tr>\n",
              "      <th>7312</th>\n",
              "      <td>s7313</td>\n",
              "      <td>TV Show</td>\n",
              "      <td>Little Lunch</td>\n",
              "      <td>NaN</td>\n",
              "      <td>Flynn Curry, Olivia Deeble, Madison Lu, Oisín ...</td>\n",
              "      <td>Australia</td>\n",
              "      <td>February 1, 2018</td>\n",
              "      <td>2015</td>\n",
              "      <td>NaN</td>\n",
              "      <td>1 Season</td>\n",
              "      <td>Kids' TV, TV Comedies</td>\n",
              "      <td>Adopting a child's perspective, this show take...</td>\n",
              "    </tr>\n",
              "    <tr>\n",
              "      <th>7537</th>\n",
              "      <td>s7538</td>\n",
              "      <td>Movie</td>\n",
              "      <td>My Honor Was Loyalty</td>\n",
              "      <td>Alessandro Pepe</td>\n",
              "      <td>Leone Frisa, Paolo Vaccarino, Francesco Miglio...</td>\n",
              "      <td>Italy</td>\n",
              "      <td>March 1, 2017</td>\n",
              "      <td>2015</td>\n",
              "      <td>NaN</td>\n",
              "      <td>115 min</td>\n",
              "      <td>Dramas</td>\n",
              "      <td>Amid the chaos and horror of World War II, a c...</td>\n",
              "    </tr>\n",
              "  </tbody>\n",
              "</table>\n",
              "</div>"
            ],
            "text/plain": [
              "     show_id     type                                              title  \\\n",
              "5989   s5990    Movie  13TH: A Conversation with Oprah Winfrey & Ava ...   \n",
              "6827   s6828  TV Show                  Gargantia on the Verdurous Planet   \n",
              "7312   s7313  TV Show                                       Little Lunch   \n",
              "7537   s7538    Movie                               My Honor Was Loyalty   \n",
              "\n",
              "             director                                               cast  \\\n",
              "5989              NaN                        Oprah Winfrey, Ava DuVernay   \n",
              "6827              NaN  Kaito Ishikawa, Hisako Kanemoto, Ai Kayano, Ka...   \n",
              "7312              NaN  Flynn Curry, Olivia Deeble, Madison Lu, Oisín ...   \n",
              "7537  Alessandro Pepe  Leone Frisa, Paolo Vaccarino, Francesco Miglio...   \n",
              "\n",
              "        country        date_added release_year rating  duration  \\\n",
              "5989        NaN  January 26, 2017         2017    NaN    37 min   \n",
              "6827      Japan  December 1, 2016         2013    NaN  1 Season   \n",
              "7312  Australia  February 1, 2018         2015    NaN  1 Season   \n",
              "7537      Italy     March 1, 2017         2015    NaN   115 min   \n",
              "\n",
              "                                 listed_in  \\\n",
              "5989                                Movies   \n",
              "6827  Anime Series, International TV Shows   \n",
              "7312                 Kids' TV, TV Comedies   \n",
              "7537                                Dramas   \n",
              "\n",
              "                                            description  \n",
              "5989  Oprah Winfrey sits down with director Ava DuVe...  \n",
              "6827  After falling through a wormhole, a space-dwel...  \n",
              "7312  Adopting a child's perspective, this show take...  \n",
              "7537  Amid the chaos and horror of World War II, a c...  "
            ]
          },
          "execution_count": 343,
          "metadata": {},
          "output_type": "execute_result"
        }
      ],
      "source": [
        "df[df.rating.isna()]"
      ]
    },
    {
      "cell_type": "code",
      "execution_count": null,
      "id": "17f47162-ff25-4422-8bc4-47a790103065",
      "metadata": {
        "id": "17f47162-ff25-4422-8bc4-47a790103065",
        "outputId": "582768a0-bcbb-45d2-8221-129ff4277e70"
      },
      "outputs": [
        {
          "data": {
            "text/plain": [
              "Index([5989, 6827, 7312, 7537], dtype='int64')"
            ]
          },
          "execution_count": 345,
          "metadata": {},
          "output_type": "execute_result"
        }
      ],
      "source": [
        "indices = df[df['rating'].isna()].index\n",
        "indices"
      ]
    },
    {
      "cell_type": "code",
      "execution_count": null,
      "id": "317a7ede-e4c2-419d-a2b6-72abfc58d3d0",
      "metadata": {
        "scrolled": true,
        "id": "317a7ede-e4c2-419d-a2b6-72abfc58d3d0",
        "outputId": "0fd6de4f-d36d-447e-d1f9-aa67ac33c851"
      },
      "outputs": [
        {
          "data": {
            "text/html": [
              "<div>\n",
              "<style scoped>\n",
              "    .dataframe tbody tr th:only-of-type {\n",
              "        vertical-align: middle;\n",
              "    }\n",
              "\n",
              "    .dataframe tbody tr th {\n",
              "        vertical-align: top;\n",
              "    }\n",
              "\n",
              "    .dataframe thead th {\n",
              "        text-align: right;\n",
              "    }\n",
              "</style>\n",
              "<table border=\"1\" class=\"dataframe\">\n",
              "  <thead>\n",
              "    <tr style=\"text-align: right;\">\n",
              "      <th></th>\n",
              "      <th>show_id</th>\n",
              "      <th>type</th>\n",
              "      <th>title</th>\n",
              "      <th>director</th>\n",
              "      <th>cast</th>\n",
              "      <th>country</th>\n",
              "      <th>date_added</th>\n",
              "      <th>release_year</th>\n",
              "      <th>rating</th>\n",
              "      <th>duration</th>\n",
              "      <th>listed_in</th>\n",
              "      <th>description</th>\n",
              "    </tr>\n",
              "  </thead>\n",
              "  <tbody>\n",
              "    <tr>\n",
              "      <th>5989</th>\n",
              "      <td>s5990</td>\n",
              "      <td>Movie</td>\n",
              "      <td>13TH: A Conversation with Oprah Winfrey &amp; Ava ...</td>\n",
              "      <td>NaN</td>\n",
              "      <td>Oprah Winfrey, Ava DuVernay</td>\n",
              "      <td>NaN</td>\n",
              "      <td>January 26, 2017</td>\n",
              "      <td>2017</td>\n",
              "      <td>Not Available</td>\n",
              "      <td>37 min</td>\n",
              "      <td>Movies</td>\n",
              "      <td>Oprah Winfrey sits down with director Ava DuVe...</td>\n",
              "    </tr>\n",
              "    <tr>\n",
              "      <th>6827</th>\n",
              "      <td>s6828</td>\n",
              "      <td>TV Show</td>\n",
              "      <td>Gargantia on the Verdurous Planet</td>\n",
              "      <td>NaN</td>\n",
              "      <td>Kaito Ishikawa, Hisako Kanemoto, Ai Kayano, Ka...</td>\n",
              "      <td>Japan</td>\n",
              "      <td>December 1, 2016</td>\n",
              "      <td>2013</td>\n",
              "      <td>Not Available</td>\n",
              "      <td>1 Season</td>\n",
              "      <td>Anime Series, International TV Shows</td>\n",
              "      <td>After falling through a wormhole, a space-dwel...</td>\n",
              "    </tr>\n",
              "    <tr>\n",
              "      <th>7312</th>\n",
              "      <td>s7313</td>\n",
              "      <td>TV Show</td>\n",
              "      <td>Little Lunch</td>\n",
              "      <td>NaN</td>\n",
              "      <td>Flynn Curry, Olivia Deeble, Madison Lu, Oisín ...</td>\n",
              "      <td>Australia</td>\n",
              "      <td>February 1, 2018</td>\n",
              "      <td>2015</td>\n",
              "      <td>Not Available</td>\n",
              "      <td>1 Season</td>\n",
              "      <td>Kids' TV, TV Comedies</td>\n",
              "      <td>Adopting a child's perspective, this show take...</td>\n",
              "    </tr>\n",
              "    <tr>\n",
              "      <th>7537</th>\n",
              "      <td>s7538</td>\n",
              "      <td>Movie</td>\n",
              "      <td>My Honor Was Loyalty</td>\n",
              "      <td>Alessandro Pepe</td>\n",
              "      <td>Leone Frisa, Paolo Vaccarino, Francesco Miglio...</td>\n",
              "      <td>Italy</td>\n",
              "      <td>March 1, 2017</td>\n",
              "      <td>2015</td>\n",
              "      <td>Not Available</td>\n",
              "      <td>115 min</td>\n",
              "      <td>Dramas</td>\n",
              "      <td>Amid the chaos and horror of World War II, a c...</td>\n",
              "    </tr>\n",
              "  </tbody>\n",
              "</table>\n",
              "</div>"
            ],
            "text/plain": [
              "     show_id     type                                              title  \\\n",
              "5989   s5990    Movie  13TH: A Conversation with Oprah Winfrey & Ava ...   \n",
              "6827   s6828  TV Show                  Gargantia on the Verdurous Planet   \n",
              "7312   s7313  TV Show                                       Little Lunch   \n",
              "7537   s7538    Movie                               My Honor Was Loyalty   \n",
              "\n",
              "             director                                               cast  \\\n",
              "5989              NaN                        Oprah Winfrey, Ava DuVernay   \n",
              "6827              NaN  Kaito Ishikawa, Hisako Kanemoto, Ai Kayano, Ka...   \n",
              "7312              NaN  Flynn Curry, Olivia Deeble, Madison Lu, Oisín ...   \n",
              "7537  Alessandro Pepe  Leone Frisa, Paolo Vaccarino, Francesco Miglio...   \n",
              "\n",
              "        country        date_added release_year         rating  duration  \\\n",
              "5989        NaN  January 26, 2017         2017  Not Available    37 min   \n",
              "6827      Japan  December 1, 2016         2013  Not Available  1 Season   \n",
              "7312  Australia  February 1, 2018         2015  Not Available  1 Season   \n",
              "7537      Italy     March 1, 2017         2015  Not Available   115 min   \n",
              "\n",
              "                                 listed_in  \\\n",
              "5989                                Movies   \n",
              "6827  Anime Series, International TV Shows   \n",
              "7312                 Kids' TV, TV Comedies   \n",
              "7537                                Dramas   \n",
              "\n",
              "                                            description  \n",
              "5989  Oprah Winfrey sits down with director Ava DuVe...  \n",
              "6827  After falling through a wormhole, a space-dwel...  \n",
              "7312  Adopting a child's perspective, this show take...  \n",
              "7537  Amid the chaos and horror of World War II, a c...  "
            ]
          },
          "execution_count": 347,
          "metadata": {},
          "output_type": "execute_result"
        }
      ],
      "source": [
        "df.loc[indices , 'rating'] = 'Not Available'\n",
        "df.loc[indices]"
      ]
    },
    {
      "cell_type": "code",
      "execution_count": null,
      "id": "99d435ce-6e00-4f9f-9729-1545801e71e9",
      "metadata": {
        "id": "99d435ce-6e00-4f9f-9729-1545801e71e9",
        "outputId": "ee17984e-fd98-4ebd-8d3d-ba302104311a"
      },
      "outputs": [
        {
          "data": {
            "text/plain": [
              "array(['PG-13', 'TV-MA', 'PG', 'TV-14', 'TV-PG', 'TV-Y', 'TV-Y7', 'R',\n",
              "       'TV-G', 'G', 'NC-17', 'Not Available', 'NR', 'TV-Y7-FV', 'UR'],\n",
              "      dtype=object)"
            ]
          },
          "execution_count": 349,
          "metadata": {},
          "output_type": "execute_result"
        }
      ],
      "source": [
        "df.rating.unique()"
      ]
    },
    {
      "cell_type": "code",
      "execution_count": null,
      "id": "5999b5aa-fcfc-473e-bf51-59a4964b4616",
      "metadata": {
        "scrolled": true,
        "id": "5999b5aa-fcfc-473e-bf51-59a4964b4616",
        "outputId": "6664d52e-ac49-4b6c-a4cb-ced7e025ee3b"
      },
      "outputs": [
        {
          "data": {
            "text/plain": [
              "rating\n",
              "TV-MA            3207\n",
              "TV-14            2160\n",
              "TV-PG             863\n",
              "R                 799\n",
              "PG-13             490\n",
              "TV-Y7             334\n",
              "TV-Y              307\n",
              "PG                287\n",
              "TV-G              220\n",
              "NR                 83\n",
              "G                  41\n",
              "Not Available       7\n",
              "TV-Y7-FV            6\n",
              "NC-17               3\n",
              "Name: count, dtype: int64"
            ]
          },
          "execution_count": 353,
          "metadata": {},
          "output_type": "execute_result"
        }
      ],
      "source": [
        "df.loc[df['rating'] == 'UR' , 'rating'] = 'NR'   #broadcasting\n",
        "df.rating.value_counts()"
      ]
    },
    {
      "cell_type": "code",
      "execution_count": null,
      "id": "0826aef7-c2c8-4787-80b3-a13a52187ab8",
      "metadata": {
        "id": "0826aef7-c2c8-4787-80b3-a13a52187ab8"
      },
      "outputs": [],
      "source": [
        "#Dropping the null from date_added column\n",
        "df.drop(df.loc[df['date_added'].isna()].index, axis = 0, inplace = True)"
      ]
    },
    {
      "cell_type": "code",
      "execution_count": null,
      "id": "4080cf10-1bb7-43a0-bf18-ea5fa0dc9299",
      "metadata": {
        "scrolled": true,
        "id": "4080cf10-1bb7-43a0-bf18-ea5fa0dc9299",
        "outputId": "7364cea4-54f3-438d-e262-423a300efd3b"
      },
      "outputs": [
        {
          "data": {
            "text/plain": [
              "date_added\n",
              "January 1, 2020      109\n",
              "November 1, 2019      89\n",
              "March 1, 2018         75\n",
              "December 31, 2019     74\n",
              "October 1, 2018       71\n",
              "                    ... \n",
              "December 4, 2016       1\n",
              "November 21, 2016      1\n",
              "November 19, 2016      1\n",
              "November 17, 2016      1\n",
              "January 11, 2020       1\n",
              "Name: count, Length: 1767, dtype: int64"
            ]
          },
          "execution_count": 359,
          "metadata": {},
          "output_type": "execute_result"
        }
      ],
      "source": [
        "df['date_added'].value_counts()"
      ]
    },
    {
      "cell_type": "code",
      "execution_count": null,
      "id": "e02776e4-333b-4eac-8c42-61ca2c70a49e",
      "metadata": {
        "id": "e02776e4-333b-4eac-8c42-61ca2c70a49e"
      },
      "outputs": [],
      "source": [
        "from datetime import datetime\n",
        "from datetime import date"
      ]
    },
    {
      "cell_type": "code",
      "execution_count": null,
      "id": "c58d5421-acc2-4957-9b0b-ee72d69bc0a9",
      "metadata": {
        "scrolled": true,
        "id": "c58d5421-acc2-4957-9b0b-ee72d69bc0a9",
        "outputId": "41f38e47-8d9f-4f24-e836-dcdb787020b8"
      },
      "outputs": [
        {
          "data": {
            "text/plain": [
              "0      2021-09-25\n",
              "1      2021-09-24\n",
              "2      2021-09-24\n",
              "3      2021-09-24\n",
              "4      2021-09-24\n",
              "          ...    \n",
              "8802   2019-11-20\n",
              "8803   2019-07-01\n",
              "8804   2019-11-01\n",
              "8805   2020-01-11\n",
              "8806   2019-03-02\n",
              "Name: date_added, Length: 8797, dtype: datetime64[ns]"
            ]
          },
          "execution_count": 363,
          "metadata": {},
          "output_type": "execute_result"
        }
      ],
      "source": [
        "df['date_added'] = pd.to_datetime(df['date_added'], errors='coerce')\n",
        "df['date_added']"
      ]
    },
    {
      "cell_type": "code",
      "execution_count": null,
      "id": "1ed324dd-51a5-4d19-9c45-d3bf9b2ba987",
      "metadata": {
        "id": "1ed324dd-51a5-4d19-9c45-d3bf9b2ba987"
      },
      "outputs": [],
      "source": [
        "df['year_added'] = df['date_added'].dt.year\n",
        "df['month_added'] = df['date_added'].dt.month"
      ]
    },
    {
      "cell_type": "code",
      "execution_count": null,
      "id": "46cb863e-7ca5-432a-80a6-ae82786600a0",
      "metadata": {
        "scrolled": true,
        "id": "46cb863e-7ca5-432a-80a6-ae82786600a0",
        "outputId": "19b7f2e1-efa0-4ba9-dae5-08fe42fd1174"
      },
      "outputs": [
        {
          "data": {
            "text/plain": [
              "0       2021.0\n",
              "1       2021.0\n",
              "2       2021.0\n",
              "3       2021.0\n",
              "4       2021.0\n",
              "         ...  \n",
              "8802    2019.0\n",
              "8803    2019.0\n",
              "8804    2019.0\n",
              "8805    2020.0\n",
              "8806    2019.0\n",
              "Name: year_added, Length: 8797, dtype: float64"
            ]
          },
          "execution_count": 367,
          "metadata": {},
          "output_type": "execute_result"
        }
      ],
      "source": [
        "df['year_added']"
      ]
    },
    {
      "cell_type": "code",
      "execution_count": null,
      "id": "274acb68-5961-44f9-9dab-546e0c57bfb8",
      "metadata": {
        "scrolled": true,
        "id": "274acb68-5961-44f9-9dab-546e0c57bfb8",
        "outputId": "7c297b98-e41b-4faa-f2ba-d1de0d87511d"
      },
      "outputs": [
        {
          "data": {
            "text/plain": [
              "0        9.0\n",
              "1        9.0\n",
              "2        9.0\n",
              "3        9.0\n",
              "4        9.0\n",
              "        ... \n",
              "8802    11.0\n",
              "8803     7.0\n",
              "8804    11.0\n",
              "8805     1.0\n",
              "8806     3.0\n",
              "Name: month_added, Length: 8797, dtype: float64"
            ]
          },
          "execution_count": 369,
          "metadata": {},
          "output_type": "execute_result"
        }
      ],
      "source": [
        "df['month_added']"
      ]
    },
    {
      "cell_type": "code",
      "execution_count": null,
      "id": "6cdd82e5-80f9-452b-9fe2-9a8dc1bb2e2a",
      "metadata": {
        "scrolled": true,
        "id": "6cdd82e5-80f9-452b-9fe2-9a8dc1bb2e2a",
        "outputId": "678ef9df-4b24-402c-bcb5-d7a99df758c6"
      },
      "outputs": [
        {
          "name": "stdout",
          "output_type": "stream",
          "text": [
            "<class 'pandas.core.frame.DataFrame'>\n",
            "Index: 8797 entries, 0 to 8806\n",
            "Data columns (total 3 columns):\n",
            " #   Column       Non-Null Count  Dtype         \n",
            "---  ------       --------------  -----         \n",
            " 0   date_added   8709 non-null   datetime64[ns]\n",
            " 1   year_added   8709 non-null   float64       \n",
            " 2   month_added  8709 non-null   float64       \n",
            "dtypes: datetime64[ns](1), float64(2)\n",
            "memory usage: 274.9 KB\n"
          ]
        }
      ],
      "source": [
        "df[['date_added' , 'year_added' , 'month_added']].info()"
      ]
    },
    {
      "cell_type": "code",
      "execution_count": null,
      "id": "0b5cb14b-d409-4909-a1c7-0a6e82a9064c",
      "metadata": {
        "id": "0b5cb14b-d409-4909-a1c7-0a6e82a9064c",
        "outputId": "dd77a56a-332a-45db-807e-fdd445563e17"
      },
      "outputs": [
        {
          "data": {
            "text/plain": [
              "show_id            0\n",
              "type               0\n",
              "title              0\n",
              "director        2624\n",
              "cast             825\n",
              "country          830\n",
              "date_added        88\n",
              "release_year       0\n",
              "rating             0\n",
              "duration           0\n",
              "listed_in          0\n",
              "description        0\n",
              "year_added        88\n",
              "month_added       88\n",
              "dtype: int64"
            ]
          },
          "execution_count": 373,
          "metadata": {},
          "output_type": "execute_result"
        }
      ],
      "source": [
        "#total null values in each column\n",
        "df.isna().sum()"
      ]
    },
    {
      "cell_type": "markdown",
      "id": "a4ceb545-3400-419a-9e8c-c90a41e0d6db",
      "metadata": {
        "id": "a4ceb545-3400-419a-9e8c-c90a41e0d6db"
      },
      "source": []
    },
    {
      "cell_type": "code",
      "execution_count": null,
      "id": "da66a710-451f-429b-abe1-c2f1f6e74dc4",
      "metadata": {
        "scrolled": true,
        "id": "da66a710-451f-429b-abe1-c2f1f6e74dc4",
        "outputId": "7b513700-06c0-4c73-b329-09008b523685"
      },
      "outputs": [
        {
          "data": {
            "text/plain": [
              "show_id          0.0\n",
              "type             0.0\n",
              "title            0.0\n",
              "director        30.0\n",
              "cast             9.0\n",
              "country          9.0\n",
              "date_added       1.0\n",
              "release_year     0.0\n",
              "rating           0.0\n",
              "duration         0.0\n",
              "listed_in        0.0\n",
              "description      0.0\n",
              "year_added       1.0\n",
              "month_added      1.0\n",
              "dtype: float64"
            ]
          },
          "execution_count": 375,
          "metadata": {},
          "output_type": "execute_result"
        }
      ],
      "source": [
        "#% of Null values in each column\n",
        "round((df.isna().sum()/ df.shape[0]*100))"
      ]
    },
    {
      "cell_type": "markdown",
      "id": "e5560b49-c61b-4acd-9a38-1cbc310d99f9",
      "metadata": {
        "id": "e5560b49-c61b-4acd-9a38-1cbc310d99f9"
      },
      "source": [
        "## 5. Data Exploration and Non-Graphical Analysis"
      ]
    },
    {
      "cell_type": "code",
      "execution_count": null,
      "id": "5a3eca52-bcf8-4ef5-bdc7-7430889175b8",
      "metadata": {
        "id": "5a3eca52-bcf8-4ef5-bdc7-7430889175b8",
        "outputId": "6ed50e7c-f817-446e-dc25-1bf2865f2339"
      },
      "outputs": [
        {
          "data": {
            "text/plain": [
              "array(['Movie', 'TV Show'], dtype=object)"
            ]
          },
          "execution_count": 377,
          "metadata": {},
          "output_type": "execute_result"
        }
      ],
      "source": [
        "#2 types of content present in the dataset - either Movie or Tv shows\n",
        "df['type'].unique()"
      ]
    },
    {
      "cell_type": "code",
      "execution_count": null,
      "id": "54c0322f-f949-454b-99d2-4ab6585d27a0",
      "metadata": {
        "id": "54c0322f-f949-454b-99d2-4ab6585d27a0"
      },
      "outputs": [],
      "source": [
        "movies = df.loc[df['type'] == 'Movie']   #All rows which has Movie in type Col\n",
        "tv_shows = df.loc[df['type'] == 'TV Show']  ##All rows which has v shows in type Col"
      ]
    },
    {
      "cell_type": "code",
      "execution_count": null,
      "id": "97a9ddcd-103f-4207-aefa-99f237cc6a08",
      "metadata": {
        "scrolled": true,
        "id": "97a9ddcd-103f-4207-aefa-99f237cc6a08",
        "outputId": "0103307b-12b7-4ecf-b7d3-48636ed9d4c4"
      },
      "outputs": [
        {
          "data": {
            "text/html": [
              "<div>\n",
              "<style scoped>\n",
              "    .dataframe tbody tr th:only-of-type {\n",
              "        vertical-align: middle;\n",
              "    }\n",
              "\n",
              "    .dataframe tbody tr th {\n",
              "        vertical-align: top;\n",
              "    }\n",
              "\n",
              "    .dataframe thead th {\n",
              "        text-align: right;\n",
              "    }\n",
              "</style>\n",
              "<table border=\"1\" class=\"dataframe\">\n",
              "  <thead>\n",
              "    <tr style=\"text-align: right;\">\n",
              "      <th></th>\n",
              "      <th>show_id</th>\n",
              "      <th>type</th>\n",
              "      <th>title</th>\n",
              "      <th>director</th>\n",
              "      <th>cast</th>\n",
              "      <th>country</th>\n",
              "      <th>date_added</th>\n",
              "      <th>release_year</th>\n",
              "      <th>rating</th>\n",
              "      <th>duration</th>\n",
              "      <th>listed_in</th>\n",
              "      <th>description</th>\n",
              "      <th>year_added</th>\n",
              "      <th>month_added</th>\n",
              "    </tr>\n",
              "  </thead>\n",
              "  <tbody>\n",
              "    <tr>\n",
              "      <th>0</th>\n",
              "      <td>s1</td>\n",
              "      <td>Movie</td>\n",
              "      <td>Dick Johnson Is Dead</td>\n",
              "      <td>Kirsten Johnson</td>\n",
              "      <td>NaN</td>\n",
              "      <td>United States</td>\n",
              "      <td>2021-09-25</td>\n",
              "      <td>2020</td>\n",
              "      <td>PG-13</td>\n",
              "      <td>90 min</td>\n",
              "      <td>Documentaries</td>\n",
              "      <td>As her father nears the end of his life, filmm...</td>\n",
              "      <td>2021.0</td>\n",
              "      <td>9.0</td>\n",
              "    </tr>\n",
              "    <tr>\n",
              "      <th>6</th>\n",
              "      <td>s7</td>\n",
              "      <td>Movie</td>\n",
              "      <td>My Little Pony: A New Generation</td>\n",
              "      <td>Robert Cullen, José Luis Ucha</td>\n",
              "      <td>Vanessa Hudgens, Kimiko Glenn, James Marsden, ...</td>\n",
              "      <td>NaN</td>\n",
              "      <td>2021-09-24</td>\n",
              "      <td>2021</td>\n",
              "      <td>PG</td>\n",
              "      <td>91 min</td>\n",
              "      <td>Children &amp; Family Movies</td>\n",
              "      <td>Equestria's divided. But a bright-eyed hero be...</td>\n",
              "      <td>2021.0</td>\n",
              "      <td>9.0</td>\n",
              "    </tr>\n",
              "    <tr>\n",
              "      <th>7</th>\n",
              "      <td>s8</td>\n",
              "      <td>Movie</td>\n",
              "      <td>Sankofa</td>\n",
              "      <td>Haile Gerima</td>\n",
              "      <td>Kofi Ghanaba, Oyafunmike Ogunlano, Alexandra D...</td>\n",
              "      <td>United States, Ghana, Burkina Faso, United Kin...</td>\n",
              "      <td>2021-09-24</td>\n",
              "      <td>1993</td>\n",
              "      <td>TV-MA</td>\n",
              "      <td>125 min</td>\n",
              "      <td>Dramas, Independent Movies, International Movies</td>\n",
              "      <td>On a photo shoot in Ghana, an American model s...</td>\n",
              "      <td>2021.0</td>\n",
              "      <td>9.0</td>\n",
              "    </tr>\n",
              "    <tr>\n",
              "      <th>9</th>\n",
              "      <td>s10</td>\n",
              "      <td>Movie</td>\n",
              "      <td>The Starling</td>\n",
              "      <td>Theodore Melfi</td>\n",
              "      <td>Melissa McCarthy, Chris O'Dowd, Kevin Kline, T...</td>\n",
              "      <td>United States</td>\n",
              "      <td>2021-09-24</td>\n",
              "      <td>2021</td>\n",
              "      <td>PG-13</td>\n",
              "      <td>104 min</td>\n",
              "      <td>Comedies, Dramas</td>\n",
              "      <td>A woman adjusting to life after a loss contend...</td>\n",
              "      <td>2021.0</td>\n",
              "      <td>9.0</td>\n",
              "    </tr>\n",
              "    <tr>\n",
              "      <th>12</th>\n",
              "      <td>s13</td>\n",
              "      <td>Movie</td>\n",
              "      <td>Je Suis Karl</td>\n",
              "      <td>Christian Schwochow</td>\n",
              "      <td>Luna Wedler, Jannis Niewöhner, Milan Peschel, ...</td>\n",
              "      <td>Germany, Czech Republic</td>\n",
              "      <td>2021-09-23</td>\n",
              "      <td>2021</td>\n",
              "      <td>TV-MA</td>\n",
              "      <td>127 min</td>\n",
              "      <td>Dramas, International Movies</td>\n",
              "      <td>After most of her family is murdered in a terr...</td>\n",
              "      <td>2021.0</td>\n",
              "      <td>9.0</td>\n",
              "    </tr>\n",
              "    <tr>\n",
              "      <th>...</th>\n",
              "      <td>...</td>\n",
              "      <td>...</td>\n",
              "      <td>...</td>\n",
              "      <td>...</td>\n",
              "      <td>...</td>\n",
              "      <td>...</td>\n",
              "      <td>...</td>\n",
              "      <td>...</td>\n",
              "      <td>...</td>\n",
              "      <td>...</td>\n",
              "      <td>...</td>\n",
              "      <td>...</td>\n",
              "      <td>...</td>\n",
              "      <td>...</td>\n",
              "    </tr>\n",
              "    <tr>\n",
              "      <th>8801</th>\n",
              "      <td>s8802</td>\n",
              "      <td>Movie</td>\n",
              "      <td>Zinzana</td>\n",
              "      <td>Majid Al Ansari</td>\n",
              "      <td>Ali Suliman, Saleh Bakri, Yasa, Ali Al-Jabri, ...</td>\n",
              "      <td>United Arab Emirates, Jordan</td>\n",
              "      <td>2016-03-09</td>\n",
              "      <td>2015</td>\n",
              "      <td>TV-MA</td>\n",
              "      <td>96 min</td>\n",
              "      <td>Dramas, International Movies, Thrillers</td>\n",
              "      <td>Recovering alcoholic Talal wakes up inside a s...</td>\n",
              "      <td>2016.0</td>\n",
              "      <td>3.0</td>\n",
              "    </tr>\n",
              "    <tr>\n",
              "      <th>8802</th>\n",
              "      <td>s8803</td>\n",
              "      <td>Movie</td>\n",
              "      <td>Zodiac</td>\n",
              "      <td>David Fincher</td>\n",
              "      <td>Mark Ruffalo, Jake Gyllenhaal, Robert Downey J...</td>\n",
              "      <td>United States</td>\n",
              "      <td>2019-11-20</td>\n",
              "      <td>2007</td>\n",
              "      <td>R</td>\n",
              "      <td>158 min</td>\n",
              "      <td>Cult Movies, Dramas, Thrillers</td>\n",
              "      <td>A political cartoonist, a crime reporter and a...</td>\n",
              "      <td>2019.0</td>\n",
              "      <td>11.0</td>\n",
              "    </tr>\n",
              "    <tr>\n",
              "      <th>8804</th>\n",
              "      <td>s8805</td>\n",
              "      <td>Movie</td>\n",
              "      <td>Zombieland</td>\n",
              "      <td>Ruben Fleischer</td>\n",
              "      <td>Jesse Eisenberg, Woody Harrelson, Emma Stone, ...</td>\n",
              "      <td>United States</td>\n",
              "      <td>2019-11-01</td>\n",
              "      <td>2009</td>\n",
              "      <td>R</td>\n",
              "      <td>88 min</td>\n",
              "      <td>Comedies, Horror Movies</td>\n",
              "      <td>Looking to survive in a world taken over by zo...</td>\n",
              "      <td>2019.0</td>\n",
              "      <td>11.0</td>\n",
              "    </tr>\n",
              "    <tr>\n",
              "      <th>8805</th>\n",
              "      <td>s8806</td>\n",
              "      <td>Movie</td>\n",
              "      <td>Zoom</td>\n",
              "      <td>Peter Hewitt</td>\n",
              "      <td>Tim Allen, Courteney Cox, Chevy Chase, Kate Ma...</td>\n",
              "      <td>United States</td>\n",
              "      <td>2020-01-11</td>\n",
              "      <td>2006</td>\n",
              "      <td>PG</td>\n",
              "      <td>88 min</td>\n",
              "      <td>Children &amp; Family Movies, Comedies</td>\n",
              "      <td>Dragged from civilian life, a former superhero...</td>\n",
              "      <td>2020.0</td>\n",
              "      <td>1.0</td>\n",
              "    </tr>\n",
              "    <tr>\n",
              "      <th>8806</th>\n",
              "      <td>s8807</td>\n",
              "      <td>Movie</td>\n",
              "      <td>Zubaan</td>\n",
              "      <td>Mozez Singh</td>\n",
              "      <td>Vicky Kaushal, Sarah-Jane Dias, Raaghav Chanan...</td>\n",
              "      <td>India</td>\n",
              "      <td>2019-03-02</td>\n",
              "      <td>2015</td>\n",
              "      <td>TV-14</td>\n",
              "      <td>111 min</td>\n",
              "      <td>Dramas, International Movies, Music &amp; Musicals</td>\n",
              "      <td>A scrappy but poor boy worms his way into a ty...</td>\n",
              "      <td>2019.0</td>\n",
              "      <td>3.0</td>\n",
              "    </tr>\n",
              "  </tbody>\n",
              "</table>\n",
              "<p>6131 rows × 14 columns</p>\n",
              "</div>"
            ],
            "text/plain": [
              "     show_id   type                             title  \\\n",
              "0         s1  Movie              Dick Johnson Is Dead   \n",
              "6         s7  Movie  My Little Pony: A New Generation   \n",
              "7         s8  Movie                           Sankofa   \n",
              "9        s10  Movie                      The Starling   \n",
              "12       s13  Movie                      Je Suis Karl   \n",
              "...      ...    ...                               ...   \n",
              "8801   s8802  Movie                           Zinzana   \n",
              "8802   s8803  Movie                            Zodiac   \n",
              "8804   s8805  Movie                        Zombieland   \n",
              "8805   s8806  Movie                              Zoom   \n",
              "8806   s8807  Movie                            Zubaan   \n",
              "\n",
              "                           director  \\\n",
              "0                   Kirsten Johnson   \n",
              "6     Robert Cullen, José Luis Ucha   \n",
              "7                      Haile Gerima   \n",
              "9                    Theodore Melfi   \n",
              "12              Christian Schwochow   \n",
              "...                             ...   \n",
              "8801                Majid Al Ansari   \n",
              "8802                  David Fincher   \n",
              "8804                Ruben Fleischer   \n",
              "8805                   Peter Hewitt   \n",
              "8806                    Mozez Singh   \n",
              "\n",
              "                                                   cast  \\\n",
              "0                                                   NaN   \n",
              "6     Vanessa Hudgens, Kimiko Glenn, James Marsden, ...   \n",
              "7     Kofi Ghanaba, Oyafunmike Ogunlano, Alexandra D...   \n",
              "9     Melissa McCarthy, Chris O'Dowd, Kevin Kline, T...   \n",
              "12    Luna Wedler, Jannis Niewöhner, Milan Peschel, ...   \n",
              "...                                                 ...   \n",
              "8801  Ali Suliman, Saleh Bakri, Yasa, Ali Al-Jabri, ...   \n",
              "8802  Mark Ruffalo, Jake Gyllenhaal, Robert Downey J...   \n",
              "8804  Jesse Eisenberg, Woody Harrelson, Emma Stone, ...   \n",
              "8805  Tim Allen, Courteney Cox, Chevy Chase, Kate Ma...   \n",
              "8806  Vicky Kaushal, Sarah-Jane Dias, Raaghav Chanan...   \n",
              "\n",
              "                                                country date_added  \\\n",
              "0                                         United States 2021-09-25   \n",
              "6                                                   NaN 2021-09-24   \n",
              "7     United States, Ghana, Burkina Faso, United Kin... 2021-09-24   \n",
              "9                                         United States 2021-09-24   \n",
              "12                              Germany, Czech Republic 2021-09-23   \n",
              "...                                                 ...        ...   \n",
              "8801                       United Arab Emirates, Jordan 2016-03-09   \n",
              "8802                                      United States 2019-11-20   \n",
              "8804                                      United States 2019-11-01   \n",
              "8805                                      United States 2020-01-11   \n",
              "8806                                              India 2019-03-02   \n",
              "\n",
              "     release_year rating duration  \\\n",
              "0            2020  PG-13   90 min   \n",
              "6            2021     PG   91 min   \n",
              "7            1993  TV-MA  125 min   \n",
              "9            2021  PG-13  104 min   \n",
              "12           2021  TV-MA  127 min   \n",
              "...           ...    ...      ...   \n",
              "8801         2015  TV-MA   96 min   \n",
              "8802         2007      R  158 min   \n",
              "8804         2009      R   88 min   \n",
              "8805         2006     PG   88 min   \n",
              "8806         2015  TV-14  111 min   \n",
              "\n",
              "                                             listed_in  \\\n",
              "0                                        Documentaries   \n",
              "6                             Children & Family Movies   \n",
              "7     Dramas, Independent Movies, International Movies   \n",
              "9                                     Comedies, Dramas   \n",
              "12                        Dramas, International Movies   \n",
              "...                                                ...   \n",
              "8801           Dramas, International Movies, Thrillers   \n",
              "8802                    Cult Movies, Dramas, Thrillers   \n",
              "8804                           Comedies, Horror Movies   \n",
              "8805                Children & Family Movies, Comedies   \n",
              "8806    Dramas, International Movies, Music & Musicals   \n",
              "\n",
              "                                            description  year_added  \\\n",
              "0     As her father nears the end of his life, filmm...      2021.0   \n",
              "6     Equestria's divided. But a bright-eyed hero be...      2021.0   \n",
              "7     On a photo shoot in Ghana, an American model s...      2021.0   \n",
              "9     A woman adjusting to life after a loss contend...      2021.0   \n",
              "12    After most of her family is murdered in a terr...      2021.0   \n",
              "...                                                 ...         ...   \n",
              "8801  Recovering alcoholic Talal wakes up inside a s...      2016.0   \n",
              "8802  A political cartoonist, a crime reporter and a...      2019.0   \n",
              "8804  Looking to survive in a world taken over by zo...      2019.0   \n",
              "8805  Dragged from civilian life, a former superhero...      2020.0   \n",
              "8806  A scrappy but poor boy worms his way into a ty...      2019.0   \n",
              "\n",
              "      month_added  \n",
              "0             9.0  \n",
              "6             9.0  \n",
              "7             9.0  \n",
              "9             9.0  \n",
              "12            9.0  \n",
              "...           ...  \n",
              "8801          3.0  \n",
              "8802         11.0  \n",
              "8804         11.0  \n",
              "8805          1.0  \n",
              "8806          3.0  \n",
              "\n",
              "[6131 rows x 14 columns]"
            ]
          },
          "execution_count": 397,
          "metadata": {},
          "output_type": "execute_result"
        }
      ],
      "source": [
        "movies"
      ]
    },
    {
      "cell_type": "code",
      "execution_count": null,
      "id": "842912d9-8556-415c-b178-208aa3288323",
      "metadata": {
        "scrolled": true,
        "id": "842912d9-8556-415c-b178-208aa3288323",
        "outputId": "49cdd23b-87dd-429a-c77a-f59ccd6279e9"
      },
      "outputs": [
        {
          "data": {
            "text/html": [
              "<div>\n",
              "<style scoped>\n",
              "    .dataframe tbody tr th:only-of-type {\n",
              "        vertical-align: middle;\n",
              "    }\n",
              "\n",
              "    .dataframe tbody tr th {\n",
              "        vertical-align: top;\n",
              "    }\n",
              "\n",
              "    .dataframe thead th {\n",
              "        text-align: right;\n",
              "    }\n",
              "</style>\n",
              "<table border=\"1\" class=\"dataframe\">\n",
              "  <thead>\n",
              "    <tr style=\"text-align: right;\">\n",
              "      <th></th>\n",
              "      <th>show_id</th>\n",
              "      <th>type</th>\n",
              "      <th>title</th>\n",
              "      <th>director</th>\n",
              "      <th>cast</th>\n",
              "      <th>country</th>\n",
              "      <th>date_added</th>\n",
              "      <th>release_year</th>\n",
              "      <th>rating</th>\n",
              "      <th>duration</th>\n",
              "      <th>listed_in</th>\n",
              "      <th>description</th>\n",
              "      <th>year_added</th>\n",
              "      <th>month_added</th>\n",
              "    </tr>\n",
              "  </thead>\n",
              "  <tbody>\n",
              "    <tr>\n",
              "      <th>1</th>\n",
              "      <td>s2</td>\n",
              "      <td>TV Show</td>\n",
              "      <td>Blood &amp; Water</td>\n",
              "      <td>NaN</td>\n",
              "      <td>Ama Qamata, Khosi Ngema, Gail Mabalane, Thaban...</td>\n",
              "      <td>South Africa</td>\n",
              "      <td>2021-09-24</td>\n",
              "      <td>2021</td>\n",
              "      <td>TV-MA</td>\n",
              "      <td>2 Seasons</td>\n",
              "      <td>International TV Shows, TV Dramas, TV Mysteries</td>\n",
              "      <td>After crossing paths at a party, a Cape Town t...</td>\n",
              "      <td>2021.0</td>\n",
              "      <td>9.0</td>\n",
              "    </tr>\n",
              "    <tr>\n",
              "      <th>2</th>\n",
              "      <td>s3</td>\n",
              "      <td>TV Show</td>\n",
              "      <td>Ganglands</td>\n",
              "      <td>Julien Leclercq</td>\n",
              "      <td>Sami Bouajila, Tracy Gotoas, Samuel Jouy, Nabi...</td>\n",
              "      <td>NaN</td>\n",
              "      <td>2021-09-24</td>\n",
              "      <td>2021</td>\n",
              "      <td>TV-MA</td>\n",
              "      <td>1 Season</td>\n",
              "      <td>Crime TV Shows, International TV Shows, TV Act...</td>\n",
              "      <td>To protect his family from a powerful drug lor...</td>\n",
              "      <td>2021.0</td>\n",
              "      <td>9.0</td>\n",
              "    </tr>\n",
              "    <tr>\n",
              "      <th>3</th>\n",
              "      <td>s4</td>\n",
              "      <td>TV Show</td>\n",
              "      <td>Jailbirds New Orleans</td>\n",
              "      <td>NaN</td>\n",
              "      <td>NaN</td>\n",
              "      <td>NaN</td>\n",
              "      <td>2021-09-24</td>\n",
              "      <td>2021</td>\n",
              "      <td>TV-MA</td>\n",
              "      <td>1 Season</td>\n",
              "      <td>Docuseries, Reality TV</td>\n",
              "      <td>Feuds, flirtations and toilet talk go down amo...</td>\n",
              "      <td>2021.0</td>\n",
              "      <td>9.0</td>\n",
              "    </tr>\n",
              "    <tr>\n",
              "      <th>4</th>\n",
              "      <td>s5</td>\n",
              "      <td>TV Show</td>\n",
              "      <td>Kota Factory</td>\n",
              "      <td>NaN</td>\n",
              "      <td>Mayur More, Jitendra Kumar, Ranjan Raj, Alam K...</td>\n",
              "      <td>India</td>\n",
              "      <td>2021-09-24</td>\n",
              "      <td>2021</td>\n",
              "      <td>TV-MA</td>\n",
              "      <td>2 Seasons</td>\n",
              "      <td>International TV Shows, Romantic TV Shows, TV ...</td>\n",
              "      <td>In a city of coaching centers known to train I...</td>\n",
              "      <td>2021.0</td>\n",
              "      <td>9.0</td>\n",
              "    </tr>\n",
              "    <tr>\n",
              "      <th>5</th>\n",
              "      <td>s6</td>\n",
              "      <td>TV Show</td>\n",
              "      <td>Midnight Mass</td>\n",
              "      <td>Mike Flanagan</td>\n",
              "      <td>Kate Siegel, Zach Gilford, Hamish Linklater, H...</td>\n",
              "      <td>NaN</td>\n",
              "      <td>2021-09-24</td>\n",
              "      <td>2021</td>\n",
              "      <td>TV-MA</td>\n",
              "      <td>1 Season</td>\n",
              "      <td>TV Dramas, TV Horror, TV Mysteries</td>\n",
              "      <td>The arrival of a charismatic young priest brin...</td>\n",
              "      <td>2021.0</td>\n",
              "      <td>9.0</td>\n",
              "    </tr>\n",
              "    <tr>\n",
              "      <th>...</th>\n",
              "      <td>...</td>\n",
              "      <td>...</td>\n",
              "      <td>...</td>\n",
              "      <td>...</td>\n",
              "      <td>...</td>\n",
              "      <td>...</td>\n",
              "      <td>...</td>\n",
              "      <td>...</td>\n",
              "      <td>...</td>\n",
              "      <td>...</td>\n",
              "      <td>...</td>\n",
              "      <td>...</td>\n",
              "      <td>...</td>\n",
              "      <td>...</td>\n",
              "    </tr>\n",
              "    <tr>\n",
              "      <th>8795</th>\n",
              "      <td>s8796</td>\n",
              "      <td>TV Show</td>\n",
              "      <td>Yu-Gi-Oh! Arc-V</td>\n",
              "      <td>NaN</td>\n",
              "      <td>Mike Liscio, Emily Bauer, Billy Bob Thompson, ...</td>\n",
              "      <td>Japan, Canada</td>\n",
              "      <td>2018-05-01</td>\n",
              "      <td>2015</td>\n",
              "      <td>TV-Y7</td>\n",
              "      <td>2 Seasons</td>\n",
              "      <td>Anime Series, Kids' TV</td>\n",
              "      <td>Now that he's discovered the Pendulum Summonin...</td>\n",
              "      <td>2018.0</td>\n",
              "      <td>5.0</td>\n",
              "    </tr>\n",
              "    <tr>\n",
              "      <th>8796</th>\n",
              "      <td>s8797</td>\n",
              "      <td>TV Show</td>\n",
              "      <td>Yunus Emre</td>\n",
              "      <td>NaN</td>\n",
              "      <td>Gökhan Atalay, Payidar Tüfekçioglu, Baran Akbu...</td>\n",
              "      <td>Turkey</td>\n",
              "      <td>2017-01-17</td>\n",
              "      <td>2016</td>\n",
              "      <td>TV-PG</td>\n",
              "      <td>2 Seasons</td>\n",
              "      <td>International TV Shows, TV Dramas</td>\n",
              "      <td>During the Mongol invasions, Yunus Emre leaves...</td>\n",
              "      <td>2017.0</td>\n",
              "      <td>1.0</td>\n",
              "    </tr>\n",
              "    <tr>\n",
              "      <th>8797</th>\n",
              "      <td>s8798</td>\n",
              "      <td>TV Show</td>\n",
              "      <td>Zak Storm</td>\n",
              "      <td>NaN</td>\n",
              "      <td>Michael Johnston, Jessica Gee-George, Christin...</td>\n",
              "      <td>United States, France, South Korea, Indonesia</td>\n",
              "      <td>2018-09-13</td>\n",
              "      <td>2016</td>\n",
              "      <td>TV-Y7</td>\n",
              "      <td>3 Seasons</td>\n",
              "      <td>Kids' TV</td>\n",
              "      <td>Teen surfer Zak Storm is mysteriously transpor...</td>\n",
              "      <td>2018.0</td>\n",
              "      <td>9.0</td>\n",
              "    </tr>\n",
              "    <tr>\n",
              "      <th>8800</th>\n",
              "      <td>s8801</td>\n",
              "      <td>TV Show</td>\n",
              "      <td>Zindagi Gulzar Hai</td>\n",
              "      <td>NaN</td>\n",
              "      <td>Sanam Saeed, Fawad Khan, Ayesha Omer, Mehreen ...</td>\n",
              "      <td>Pakistan</td>\n",
              "      <td>2016-12-15</td>\n",
              "      <td>2012</td>\n",
              "      <td>TV-PG</td>\n",
              "      <td>1 Season</td>\n",
              "      <td>International TV Shows, Romantic TV Shows, TV ...</td>\n",
              "      <td>Strong-willed, middle-class Kashaf and carefre...</td>\n",
              "      <td>2016.0</td>\n",
              "      <td>12.0</td>\n",
              "    </tr>\n",
              "    <tr>\n",
              "      <th>8803</th>\n",
              "      <td>s8804</td>\n",
              "      <td>TV Show</td>\n",
              "      <td>Zombie Dumb</td>\n",
              "      <td>NaN</td>\n",
              "      <td>NaN</td>\n",
              "      <td>NaN</td>\n",
              "      <td>2019-07-01</td>\n",
              "      <td>2018</td>\n",
              "      <td>TV-Y7</td>\n",
              "      <td>2 Seasons</td>\n",
              "      <td>Kids' TV, Korean TV Shows, TV Comedies</td>\n",
              "      <td>While living alone in a spooky town, a young g...</td>\n",
              "      <td>2019.0</td>\n",
              "      <td>7.0</td>\n",
              "    </tr>\n",
              "  </tbody>\n",
              "</table>\n",
              "<p>2666 rows × 14 columns</p>\n",
              "</div>"
            ],
            "text/plain": [
              "     show_id     type                  title         director  \\\n",
              "1         s2  TV Show          Blood & Water              NaN   \n",
              "2         s3  TV Show              Ganglands  Julien Leclercq   \n",
              "3         s4  TV Show  Jailbirds New Orleans              NaN   \n",
              "4         s5  TV Show           Kota Factory              NaN   \n",
              "5         s6  TV Show          Midnight Mass    Mike Flanagan   \n",
              "...      ...      ...                    ...              ...   \n",
              "8795   s8796  TV Show        Yu-Gi-Oh! Arc-V              NaN   \n",
              "8796   s8797  TV Show             Yunus Emre              NaN   \n",
              "8797   s8798  TV Show              Zak Storm              NaN   \n",
              "8800   s8801  TV Show     Zindagi Gulzar Hai              NaN   \n",
              "8803   s8804  TV Show            Zombie Dumb              NaN   \n",
              "\n",
              "                                                   cast  \\\n",
              "1     Ama Qamata, Khosi Ngema, Gail Mabalane, Thaban...   \n",
              "2     Sami Bouajila, Tracy Gotoas, Samuel Jouy, Nabi...   \n",
              "3                                                   NaN   \n",
              "4     Mayur More, Jitendra Kumar, Ranjan Raj, Alam K...   \n",
              "5     Kate Siegel, Zach Gilford, Hamish Linklater, H...   \n",
              "...                                                 ...   \n",
              "8795  Mike Liscio, Emily Bauer, Billy Bob Thompson, ...   \n",
              "8796  Gökhan Atalay, Payidar Tüfekçioglu, Baran Akbu...   \n",
              "8797  Michael Johnston, Jessica Gee-George, Christin...   \n",
              "8800  Sanam Saeed, Fawad Khan, Ayesha Omer, Mehreen ...   \n",
              "8803                                                NaN   \n",
              "\n",
              "                                            country date_added release_year  \\\n",
              "1                                      South Africa 2021-09-24         2021   \n",
              "2                                               NaN 2021-09-24         2021   \n",
              "3                                               NaN 2021-09-24         2021   \n",
              "4                                             India 2021-09-24         2021   \n",
              "5                                               NaN 2021-09-24         2021   \n",
              "...                                             ...        ...          ...   \n",
              "8795                                  Japan, Canada 2018-05-01         2015   \n",
              "8796                                         Turkey 2017-01-17         2016   \n",
              "8797  United States, France, South Korea, Indonesia 2018-09-13         2016   \n",
              "8800                                       Pakistan 2016-12-15         2012   \n",
              "8803                                            NaN 2019-07-01         2018   \n",
              "\n",
              "     rating   duration                                          listed_in  \\\n",
              "1     TV-MA  2 Seasons    International TV Shows, TV Dramas, TV Mysteries   \n",
              "2     TV-MA   1 Season  Crime TV Shows, International TV Shows, TV Act...   \n",
              "3     TV-MA   1 Season                             Docuseries, Reality TV   \n",
              "4     TV-MA  2 Seasons  International TV Shows, Romantic TV Shows, TV ...   \n",
              "5     TV-MA   1 Season                 TV Dramas, TV Horror, TV Mysteries   \n",
              "...     ...        ...                                                ...   \n",
              "8795  TV-Y7  2 Seasons                             Anime Series, Kids' TV   \n",
              "8796  TV-PG  2 Seasons                  International TV Shows, TV Dramas   \n",
              "8797  TV-Y7  3 Seasons                                           Kids' TV   \n",
              "8800  TV-PG   1 Season  International TV Shows, Romantic TV Shows, TV ...   \n",
              "8803  TV-Y7  2 Seasons             Kids' TV, Korean TV Shows, TV Comedies   \n",
              "\n",
              "                                            description  year_added  \\\n",
              "1     After crossing paths at a party, a Cape Town t...      2021.0   \n",
              "2     To protect his family from a powerful drug lor...      2021.0   \n",
              "3     Feuds, flirtations and toilet talk go down amo...      2021.0   \n",
              "4     In a city of coaching centers known to train I...      2021.0   \n",
              "5     The arrival of a charismatic young priest brin...      2021.0   \n",
              "...                                                 ...         ...   \n",
              "8795  Now that he's discovered the Pendulum Summonin...      2018.0   \n",
              "8796  During the Mongol invasions, Yunus Emre leaves...      2017.0   \n",
              "8797  Teen surfer Zak Storm is mysteriously transpor...      2018.0   \n",
              "8800  Strong-willed, middle-class Kashaf and carefre...      2016.0   \n",
              "8803  While living alone in a spooky town, a young g...      2019.0   \n",
              "\n",
              "      month_added  \n",
              "1             9.0  \n",
              "2             9.0  \n",
              "3             9.0  \n",
              "4             9.0  \n",
              "5             9.0  \n",
              "...           ...  \n",
              "8795          5.0  \n",
              "8796          1.0  \n",
              "8797          9.0  \n",
              "8800         12.0  \n",
              "8803          7.0  \n",
              "\n",
              "[2666 rows x 14 columns]"
            ]
          },
          "execution_count": 399,
          "metadata": {},
          "output_type": "execute_result"
        }
      ],
      "source": [
        "tv_shows"
      ]
    },
    {
      "cell_type": "code",
      "execution_count": null,
      "id": "1611f9ac-4216-45d0-adb3-0653b7296a88",
      "metadata": {
        "scrolled": true,
        "id": "1611f9ac-4216-45d0-adb3-0653b7296a88",
        "outputId": "0fc8eea5-8312-41bc-f364-b10d1319498b"
      },
      "outputs": [
        {
          "data": {
            "text/plain": [
              "duration\n",
              "90 min     152\n",
              "94 min     146\n",
              "97 min     146\n",
              "93 min     146\n",
              "91 min     144\n",
              "          ... \n",
              "208 min      1\n",
              "5 min        1\n",
              "16 min       1\n",
              "186 min      1\n",
              "191 min      1\n",
              "Name: count, Length: 205, dtype: int64"
            ]
          },
          "execution_count": 415,
          "metadata": {},
          "output_type": "execute_result"
        }
      ],
      "source": [
        "movies.duration.value_counts()\n",
        "#The most frequent duration is usually the standard duration"
      ]
    },
    {
      "cell_type": "code",
      "execution_count": null,
      "id": "6ccf1ba2-2a07-488c-9ea7-3cd44b2f5413",
      "metadata": {
        "scrolled": true,
        "id": "6ccf1ba2-2a07-488c-9ea7-3cd44b2f5413",
        "outputId": "8c591dd0-ea7d-4e08-b4b3-bee92180ed81"
      },
      "outputs": [
        {
          "data": {
            "text/plain": [
              "duration\n",
              "1 Season      1793\n",
              "2 Seasons      421\n",
              "3 Seasons      198\n",
              "4 Seasons       94\n",
              "5 Seasons       64\n",
              "6 Seasons       33\n",
              "7 Seasons       23\n",
              "8 Seasons       17\n",
              "9 Seasons        9\n",
              "10 Seasons       6\n",
              "13 Seasons       2\n",
              "15 Seasons       2\n",
              "12 Seasons       2\n",
              "17 Seasons       1\n",
              "11 Seasons       1\n",
              "Name: count, dtype: int64"
            ]
          },
          "execution_count": 417,
          "metadata": {},
          "output_type": "execute_result"
        }
      ],
      "source": [
        "tv_shows.duration.value_counts()\n",
        "#If a TV show has more than 1 season, the first season is propbably the most watched."
      ]
    },
    {
      "cell_type": "markdown",
      "id": "77984883-74dc-4576-b3d5-eb62d337ecbd",
      "metadata": {
        "id": "77984883-74dc-4576-b3d5-eb62d337ecbd"
      },
      "source": [
        "Since movies and TV shows both have different format for duration, we can change duration for movies as minutes and TV shows as seasons"
      ]
    },
    {
      "cell_type": "code",
      "execution_count": null,
      "id": "899b78bf-af7d-4980-9ffb-50b3ef8b61fc",
      "metadata": {
        "id": "899b78bf-af7d-4980-9ffb-50b3ef8b61fc"
      },
      "outputs": [],
      "source": [
        "movies['duration'] = movies['duration'].str[:-3]\n",
        "movies['duration'] = movies['duration'].astype('float')\n",
        "#By stripping off the \" min\" part, we now have just the numeric portion that represents the duration in minutes.\n"
      ]
    },
    {
      "cell_type": "code",
      "execution_count": null,
      "id": "9429abc1-a99f-4d5a-a4ab-4ce30ad28350",
      "metadata": {
        "id": "9429abc1-a99f-4d5a-a4ab-4ce30ad28350"
      },
      "outputs": [],
      "source": [
        "tv_shows['duration'] = tv_shows.duration.str[:-7].apply(lambda x : x.strip())\n",
        "tv_shows['duration'] = tv_shows['duration'].astype('float')\n",
        "#Example: If duration is \"4 Seasons\", this operation will remove \" Seasons\" and leave \"4\", then strip() will remove any spaces, resulting in \"4\".\n"
      ]
    },
    {
      "cell_type": "code",
      "execution_count": null,
      "id": "ee2adefb-c98c-4998-a49c-d308675243ff",
      "metadata": {
        "id": "ee2adefb-c98c-4998-a49c-d308675243ff"
      },
      "outputs": [],
      "source": [
        "tv_shows.rename({'duration':'duration_in_seasons'}, axis = 1, inplace = True)\n",
        "movies.rename({'duration':'duration_in_minutes'}, axis = 1, inplace = True)"
      ]
    },
    {
      "cell_type": "code",
      "execution_count": null,
      "id": "d8e49fbc-9be3-4188-b433-5e2ece03457b",
      "metadata": {
        "id": "d8e49fbc-9be3-4188-b433-5e2ece03457b",
        "outputId": "be0d9b0b-bf40-47f2-9a1d-4175023e48d4"
      },
      "outputs": [
        {
          "data": {
            "text/plain": [
              "1       2.0\n",
              "2       1.0\n",
              "3       1.0\n",
              "4       2.0\n",
              "5       1.0\n",
              "       ... \n",
              "8795    2.0\n",
              "8796    2.0\n",
              "8797    3.0\n",
              "8800    1.0\n",
              "8803    2.0\n",
              "Name: duration_in_seasons, Length: 2666, dtype: float64"
            ]
          },
          "execution_count": 433,
          "metadata": {},
          "output_type": "execute_result"
        }
      ],
      "source": [
        "tv_shows.duration_in_seasons"
      ]
    },
    {
      "cell_type": "code",
      "execution_count": null,
      "id": "1492e65c-97fe-457a-a957-82bbd56f1299",
      "metadata": {
        "id": "1492e65c-97fe-457a-a957-82bbd56f1299",
        "outputId": "5eb73aa0-1ac4-4aef-8916-bd032f661d67"
      },
      "outputs": [
        {
          "data": {
            "text/plain": [
              "0        90.0\n",
              "6        91.0\n",
              "7       125.0\n",
              "9       104.0\n",
              "12      127.0\n",
              "        ...  \n",
              "8801     96.0\n",
              "8802    158.0\n",
              "8804     88.0\n",
              "8805     88.0\n",
              "8806    111.0\n",
              "Name: duration_in_minutes, Length: 6131, dtype: float64"
            ]
          },
          "execution_count": 437,
          "metadata": {},
          "output_type": "execute_result"
        }
      ],
      "source": [
        "movies.duration_in_minutes"
      ]
    },
    {
      "cell_type": "markdown",
      "id": "9c1562bc-4706-436e-951e-5b5ead3f24fd",
      "metadata": {
        "id": "9c1562bc-4706-436e-951e-5b5ead3f24fd"
      },
      "source": [
        "## Challenging Questions"
      ]
    },
    {
      "cell_type": "markdown",
      "id": "a4205d63-d72f-401e-a369-e876a9da7ecf",
      "metadata": {
        "id": "a4205d63-d72f-401e-a369-e876a9da7ecf"
      },
      "source": [
        "Q1: The oldest and the most recent movie/TV show released on Netflix in which year?"
      ]
    },
    {
      "cell_type": "code",
      "execution_count": null,
      "id": "d98fe80a-1275-48d9-be15-440c8b6d710a",
      "metadata": {
        "id": "d98fe80a-1275-48d9-be15-440c8b6d710a",
        "outputId": "8bdc6f54-e702-4ae5-bba3-7ca7a69cec54"
      },
      "outputs": [
        {
          "data": {
            "text/plain": [
              "(1925, 2021)"
            ]
          },
          "execution_count": 448,
          "metadata": {},
          "output_type": "execute_result"
        }
      ],
      "source": [
        "df.release_year.min(), df.release_year.max()"
      ]
    },
    {
      "cell_type": "code",
      "execution_count": null,
      "id": "74ea15f1-f390-4995-bf6e-b44c55a6123d",
      "metadata": {
        "scrolled": true,
        "id": "74ea15f1-f390-4995-bf6e-b44c55a6123d",
        "outputId": "db447eaa-e49c-4a35-b084-d7a2e1e66a8e"
      },
      "outputs": [
        {
          "data": {
            "text/html": [
              "<div>\n",
              "<style scoped>\n",
              "    .dataframe tbody tr th:only-of-type {\n",
              "        vertical-align: middle;\n",
              "    }\n",
              "\n",
              "    .dataframe tbody tr th {\n",
              "        vertical-align: top;\n",
              "    }\n",
              "\n",
              "    .dataframe thead th {\n",
              "        text-align: right;\n",
              "    }\n",
              "</style>\n",
              "<table border=\"1\" class=\"dataframe\">\n",
              "  <thead>\n",
              "    <tr style=\"text-align: right;\">\n",
              "      <th></th>\n",
              "      <th>show_id</th>\n",
              "      <th>type</th>\n",
              "      <th>title</th>\n",
              "      <th>director</th>\n",
              "      <th>cast</th>\n",
              "      <th>country</th>\n",
              "      <th>date_added</th>\n",
              "      <th>release_year</th>\n",
              "      <th>rating</th>\n",
              "      <th>duration</th>\n",
              "      <th>listed_in</th>\n",
              "      <th>description</th>\n",
              "      <th>year_added</th>\n",
              "      <th>month_added</th>\n",
              "    </tr>\n",
              "  </thead>\n",
              "  <tbody>\n",
              "    <tr>\n",
              "      <th>4250</th>\n",
              "      <td>s4251</td>\n",
              "      <td>TV Show</td>\n",
              "      <td>Pioneers: First Women Filmmakers*</td>\n",
              "      <td>NaN</td>\n",
              "      <td>NaN</td>\n",
              "      <td>NaN</td>\n",
              "      <td>2018-12-30</td>\n",
              "      <td>1925</td>\n",
              "      <td>TV-14</td>\n",
              "      <td>1 Season</td>\n",
              "      <td>TV Shows</td>\n",
              "      <td>This collection restores films from women who ...</td>\n",
              "      <td>2018.0</td>\n",
              "      <td>12.0</td>\n",
              "    </tr>\n",
              "    <tr>\n",
              "      <th>966</th>\n",
              "      <td>s967</td>\n",
              "      <td>Movie</td>\n",
              "      <td>Get the Grift</td>\n",
              "      <td>Pedro Antonio</td>\n",
              "      <td>Marcus Majella, Samantha Schmütz, Caito Mainie...</td>\n",
              "      <td>Brazil</td>\n",
              "      <td>2021-04-28</td>\n",
              "      <td>2021</td>\n",
              "      <td>TV-MA</td>\n",
              "      <td>95 min</td>\n",
              "      <td>Comedies, International Movies</td>\n",
              "      <td>After a botched scam, Clóvis bumps into Lohane...</td>\n",
              "      <td>2021.0</td>\n",
              "      <td>4.0</td>\n",
              "    </tr>\n",
              "    <tr>\n",
              "      <th>967</th>\n",
              "      <td>s968</td>\n",
              "      <td>TV Show</td>\n",
              "      <td>Headspace Guide to Sleep</td>\n",
              "      <td>NaN</td>\n",
              "      <td>Evelyn Lewis Prieto</td>\n",
              "      <td>NaN</td>\n",
              "      <td>2021-04-28</td>\n",
              "      <td>2021</td>\n",
              "      <td>TV-G</td>\n",
              "      <td>1 Season</td>\n",
              "      <td>Docuseries, Science &amp; Nature TV</td>\n",
              "      <td>Learn how to sleep better with Headspace. Each...</td>\n",
              "      <td>2021.0</td>\n",
              "      <td>4.0</td>\n",
              "    </tr>\n",
              "    <tr>\n",
              "      <th>968</th>\n",
              "      <td>s969</td>\n",
              "      <td>TV Show</td>\n",
              "      <td>Sexify</td>\n",
              "      <td>NaN</td>\n",
              "      <td>Aleksandra Skraba, Maria Sobocińska, Sandra Dr...</td>\n",
              "      <td>Poland</td>\n",
              "      <td>2021-04-28</td>\n",
              "      <td>2021</td>\n",
              "      <td>TV-MA</td>\n",
              "      <td>1 Season</td>\n",
              "      <td>International TV Shows, TV Comedies, TV Dramas</td>\n",
              "      <td>To build an innovative sex app and win a tech ...</td>\n",
              "      <td>2021.0</td>\n",
              "      <td>4.0</td>\n",
              "    </tr>\n",
              "    <tr>\n",
              "      <th>972</th>\n",
              "      <td>s973</td>\n",
              "      <td>TV Show</td>\n",
              "      <td>Fatma</td>\n",
              "      <td>NaN</td>\n",
              "      <td>Burcu Biricik, Uğur Yücel, Mehmet Yılmaz Ak, H...</td>\n",
              "      <td>Turkey</td>\n",
              "      <td>2021-04-27</td>\n",
              "      <td>2021</td>\n",
              "      <td>TV-MA</td>\n",
              "      <td>1 Season</td>\n",
              "      <td>International TV Shows, TV Dramas, TV Thrillers</td>\n",
              "      <td>Reeling from tragedy, a nondescript house clea...</td>\n",
              "      <td>2021.0</td>\n",
              "      <td>4.0</td>\n",
              "    </tr>\n",
              "    <tr>\n",
              "      <th>...</th>\n",
              "      <td>...</td>\n",
              "      <td>...</td>\n",
              "      <td>...</td>\n",
              "      <td>...</td>\n",
              "      <td>...</td>\n",
              "      <td>...</td>\n",
              "      <td>...</td>\n",
              "      <td>...</td>\n",
              "      <td>...</td>\n",
              "      <td>...</td>\n",
              "      <td>...</td>\n",
              "      <td>...</td>\n",
              "      <td>...</td>\n",
              "      <td>...</td>\n",
              "    </tr>\n",
              "    <tr>\n",
              "      <th>466</th>\n",
              "      <td>s467</td>\n",
              "      <td>TV Show</td>\n",
              "      <td>My Unorthodox Life</td>\n",
              "      <td>NaN</td>\n",
              "      <td>NaN</td>\n",
              "      <td>NaN</td>\n",
              "      <td>2021-07-14</td>\n",
              "      <td>2021</td>\n",
              "      <td>TV-MA</td>\n",
              "      <td>1 Season</td>\n",
              "      <td>Reality TV</td>\n",
              "      <td>Follow Julia Haart, Elite World Group CEO and ...</td>\n",
              "      <td>2021.0</td>\n",
              "      <td>7.0</td>\n",
              "    </tr>\n",
              "    <tr>\n",
              "      <th>467</th>\n",
              "      <td>s468</td>\n",
              "      <td>Movie</td>\n",
              "      <td>Private Network: Who Killed Manuel Buendía?</td>\n",
              "      <td>Manuel Alcalá</td>\n",
              "      <td>Daniel Giménez Cacho</td>\n",
              "      <td>NaN</td>\n",
              "      <td>2021-07-14</td>\n",
              "      <td>2021</td>\n",
              "      <td>TV-MA</td>\n",
              "      <td>100 min</td>\n",
              "      <td>Documentaries, International Movies</td>\n",
              "      <td>A deep dive into the work of renowned Mexican ...</td>\n",
              "      <td>2021.0</td>\n",
              "      <td>7.0</td>\n",
              "    </tr>\n",
              "    <tr>\n",
              "      <th>468</th>\n",
              "      <td>s469</td>\n",
              "      <td>Movie</td>\n",
              "      <td>The Guide to the Perfect Family</td>\n",
              "      <td>Ricardo Trogi</td>\n",
              "      <td>Louis Morissette, Émilie Bierre, Catherine Cha...</td>\n",
              "      <td>NaN</td>\n",
              "      <td>2021-07-14</td>\n",
              "      <td>2021</td>\n",
              "      <td>TV-MA</td>\n",
              "      <td>102 min</td>\n",
              "      <td>Comedies, Dramas, International Movies</td>\n",
              "      <td>A couple in Québec deals with the pitfalls, pr...</td>\n",
              "      <td>2021.0</td>\n",
              "      <td>7.0</td>\n",
              "    </tr>\n",
              "    <tr>\n",
              "      <th>471</th>\n",
              "      <td>s472</td>\n",
              "      <td>Movie</td>\n",
              "      <td>Day of Destiny</td>\n",
              "      <td>Akay Mason, Abosi Ogba</td>\n",
              "      <td>Olumide Oworu, Denola Grey, Gbemi Akinlade, Ji...</td>\n",
              "      <td>NaN</td>\n",
              "      <td>2021-07-13</td>\n",
              "      <td>2021</td>\n",
              "      <td>TV-PG</td>\n",
              "      <td>110 min</td>\n",
              "      <td>Children &amp; Family Movies, Dramas, Internationa...</td>\n",
              "      <td>With their family facing financial woes, two t...</td>\n",
              "      <td>2021.0</td>\n",
              "      <td>7.0</td>\n",
              "    </tr>\n",
              "    <tr>\n",
              "      <th>8437</th>\n",
              "      <td>s8438</td>\n",
              "      <td>TV Show</td>\n",
              "      <td>The Netflix Afterparty</td>\n",
              "      <td>NaN</td>\n",
              "      <td>David Spade, London Hughes, Fortune Feimster</td>\n",
              "      <td>United States</td>\n",
              "      <td>2021-01-02</td>\n",
              "      <td>2021</td>\n",
              "      <td>TV-MA</td>\n",
              "      <td>1 Season</td>\n",
              "      <td>Stand-Up Comedy &amp; Talk Shows, TV Comedies</td>\n",
              "      <td>Hosts David Spade, Fortune Feimster and London...</td>\n",
              "      <td>2021.0</td>\n",
              "      <td>1.0</td>\n",
              "    </tr>\n",
              "  </tbody>\n",
              "</table>\n",
              "<p>593 rows × 14 columns</p>\n",
              "</div>"
            ],
            "text/plain": [
              "     show_id     type                                        title  \\\n",
              "4250   s4251  TV Show            Pioneers: First Women Filmmakers*   \n",
              "966     s967    Movie                                Get the Grift   \n",
              "967     s968  TV Show                     Headspace Guide to Sleep   \n",
              "968     s969  TV Show                                       Sexify   \n",
              "972     s973  TV Show                                        Fatma   \n",
              "...      ...      ...                                          ...   \n",
              "466     s467  TV Show                           My Unorthodox Life   \n",
              "467     s468    Movie  Private Network: Who Killed Manuel Buendía?   \n",
              "468     s469    Movie              The Guide to the Perfect Family   \n",
              "471     s472    Movie                               Day of Destiny   \n",
              "8437   s8438  TV Show                       The Netflix Afterparty   \n",
              "\n",
              "                    director  \\\n",
              "4250                     NaN   \n",
              "966            Pedro Antonio   \n",
              "967                      NaN   \n",
              "968                      NaN   \n",
              "972                      NaN   \n",
              "...                      ...   \n",
              "466                      NaN   \n",
              "467            Manuel Alcalá   \n",
              "468            Ricardo Trogi   \n",
              "471   Akay Mason, Abosi Ogba   \n",
              "8437                     NaN   \n",
              "\n",
              "                                                   cast        country  \\\n",
              "4250                                                NaN            NaN   \n",
              "966   Marcus Majella, Samantha Schmütz, Caito Mainie...         Brazil   \n",
              "967                                 Evelyn Lewis Prieto            NaN   \n",
              "968   Aleksandra Skraba, Maria Sobocińska, Sandra Dr...         Poland   \n",
              "972   Burcu Biricik, Uğur Yücel, Mehmet Yılmaz Ak, H...         Turkey   \n",
              "...                                                 ...            ...   \n",
              "466                                                 NaN            NaN   \n",
              "467                                Daniel Giménez Cacho            NaN   \n",
              "468   Louis Morissette, Émilie Bierre, Catherine Cha...            NaN   \n",
              "471   Olumide Oworu, Denola Grey, Gbemi Akinlade, Ji...            NaN   \n",
              "8437       David Spade, London Hughes, Fortune Feimster  United States   \n",
              "\n",
              "     date_added release_year rating  duration  \\\n",
              "4250 2018-12-30         1925  TV-14  1 Season   \n",
              "966  2021-04-28         2021  TV-MA    95 min   \n",
              "967  2021-04-28         2021   TV-G  1 Season   \n",
              "968  2021-04-28         2021  TV-MA  1 Season   \n",
              "972  2021-04-27         2021  TV-MA  1 Season   \n",
              "...         ...          ...    ...       ...   \n",
              "466  2021-07-14         2021  TV-MA  1 Season   \n",
              "467  2021-07-14         2021  TV-MA   100 min   \n",
              "468  2021-07-14         2021  TV-MA   102 min   \n",
              "471  2021-07-13         2021  TV-PG   110 min   \n",
              "8437 2021-01-02         2021  TV-MA  1 Season   \n",
              "\n",
              "                                              listed_in  \\\n",
              "4250                                           TV Shows   \n",
              "966                      Comedies, International Movies   \n",
              "967                     Docuseries, Science & Nature TV   \n",
              "968      International TV Shows, TV Comedies, TV Dramas   \n",
              "972     International TV Shows, TV Dramas, TV Thrillers   \n",
              "...                                                 ...   \n",
              "466                                          Reality TV   \n",
              "467                 Documentaries, International Movies   \n",
              "468              Comedies, Dramas, International Movies   \n",
              "471   Children & Family Movies, Dramas, Internationa...   \n",
              "8437          Stand-Up Comedy & Talk Shows, TV Comedies   \n",
              "\n",
              "                                            description  year_added  \\\n",
              "4250  This collection restores films from women who ...      2018.0   \n",
              "966   After a botched scam, Clóvis bumps into Lohane...      2021.0   \n",
              "967   Learn how to sleep better with Headspace. Each...      2021.0   \n",
              "968   To build an innovative sex app and win a tech ...      2021.0   \n",
              "972   Reeling from tragedy, a nondescript house clea...      2021.0   \n",
              "...                                                 ...         ...   \n",
              "466   Follow Julia Haart, Elite World Group CEO and ...      2021.0   \n",
              "467   A deep dive into the work of renowned Mexican ...      2021.0   \n",
              "468   A couple in Québec deals with the pitfalls, pr...      2021.0   \n",
              "471   With their family facing financial woes, two t...      2021.0   \n",
              "8437  Hosts David Spade, Fortune Feimster and London...      2021.0   \n",
              "\n",
              "      month_added  \n",
              "4250         12.0  \n",
              "966           4.0  \n",
              "967           4.0  \n",
              "968           4.0  \n",
              "972           4.0  \n",
              "...           ...  \n",
              "466           7.0  \n",
              "467           7.0  \n",
              "468           7.0  \n",
              "471           7.0  \n",
              "8437          1.0  \n",
              "\n",
              "[593 rows x 14 columns]"
            ]
          },
          "execution_count": 450,
          "metadata": {},
          "output_type": "execute_result"
        }
      ],
      "source": [
        "df.loc[(df.release_year == df.release_year.min()) | (df.release_year == df.release_year.max())].sort_values('release_year')\n"
      ]
    },
    {
      "cell_type": "markdown",
      "id": "64b36813-0f9b-4917-90cc-e8421aa59f37",
      "metadata": {
        "id": "64b36813-0f9b-4917-90cc-e8421aa59f37"
      },
      "source": [
        "Q2: Which are the different ratings available on Netflix in each type of content (Movies/TV Show)? Check the number of contents released in each type."
      ]
    },
    {
      "cell_type": "code",
      "execution_count": null,
      "id": "927d02de-ec66-43c4-b360-fc2262580942",
      "metadata": {
        "id": "927d02de-ec66-43c4-b360-fc2262580942",
        "outputId": "557c2dbf-ddba-411b-924c-a673a791c4cb"
      },
      "outputs": [
        {
          "data": {
            "text/plain": [
              "type     rating       \n",
              "Movie    G                  41\n",
              "         NC-17               3\n",
              "         NR                 78\n",
              "         Not Available       5\n",
              "         PG                287\n",
              "         PG-13             490\n",
              "         R                 797\n",
              "         TV-14            1427\n",
              "         TV-G              126\n",
              "         TV-MA            2062\n",
              "         TV-PG             540\n",
              "         TV-Y              131\n",
              "         TV-Y7             139\n",
              "         TV-Y7-FV            5\n",
              "TV Show  NR                  4\n",
              "         Not Available       2\n",
              "         R                   2\n",
              "         TV-14             730\n",
              "         TV-G               94\n",
              "         TV-MA            1143\n",
              "         TV-PG             321\n",
              "         TV-Y              175\n",
              "         TV-Y7             194\n",
              "         TV-Y7-FV            1\n",
              "Name: show_id, dtype: int64"
            ]
          },
          "execution_count": 452,
          "metadata": {},
          "output_type": "execute_result"
        }
      ],
      "source": [
        "df.groupby(['type', 'rating'])['show_id'].count()"
      ]
    },
    {
      "cell_type": "markdown",
      "id": "8c381808-74b3-4c52-953b-b0f351c53b95",
      "metadata": {
        "id": "8c381808-74b3-4c52-953b-b0f351c53b95"
      },
      "source": [
        "Q3: Total movies and tv shows directed by each director.\n",
        "\n",
        "There are some movies which are directed by multiple directors. Hence multiple names of directors are given in comma separated format. We will firsl explode the director. To avoid creating duplicate records in our original table, we will create a separate table for directors."
      ]
    },
    {
      "cell_type": "code",
      "execution_count": null,
      "id": "f4dd6328-8713-468c-b559-303b156542e2",
      "metadata": {
        "scrolled": true,
        "id": "f4dd6328-8713-468c-b559-303b156542e2",
        "outputId": "8a3adda6-73b9-4a03-89c9-3712845027b1"
      },
      "outputs": [
        {
          "data": {
            "text/html": [
              "<div>\n",
              "<style scoped>\n",
              "    .dataframe tbody tr th:only-of-type {\n",
              "        vertical-align: middle;\n",
              "    }\n",
              "\n",
              "    .dataframe tbody tr th {\n",
              "        vertical-align: top;\n",
              "    }\n",
              "\n",
              "    .dataframe thead th {\n",
              "        text-align: right;\n",
              "    }\n",
              "</style>\n",
              "<table border=\"1\" class=\"dataframe\">\n",
              "  <thead>\n",
              "    <tr style=\"text-align: right;\">\n",
              "      <th></th>\n",
              "      <th>show_id</th>\n",
              "      <th>type</th>\n",
              "      <th>director</th>\n",
              "    </tr>\n",
              "  </thead>\n",
              "  <tbody>\n",
              "    <tr>\n",
              "      <th>0</th>\n",
              "      <td>s1</td>\n",
              "      <td>Movie</td>\n",
              "      <td>[Kirsten Johnson]</td>\n",
              "    </tr>\n",
              "    <tr>\n",
              "      <th>2</th>\n",
              "      <td>s3</td>\n",
              "      <td>TV Show</td>\n",
              "      <td>[Julien Leclercq]</td>\n",
              "    </tr>\n",
              "    <tr>\n",
              "      <th>5</th>\n",
              "      <td>s6</td>\n",
              "      <td>TV Show</td>\n",
              "      <td>[Mike Flanagan]</td>\n",
              "    </tr>\n",
              "    <tr>\n",
              "      <th>6</th>\n",
              "      <td>s7</td>\n",
              "      <td>Movie</td>\n",
              "      <td>[Robert Cullen,  José Luis Ucha]</td>\n",
              "    </tr>\n",
              "    <tr>\n",
              "      <th>7</th>\n",
              "      <td>s8</td>\n",
              "      <td>Movie</td>\n",
              "      <td>[Haile Gerima]</td>\n",
              "    </tr>\n",
              "    <tr>\n",
              "      <th>...</th>\n",
              "      <td>...</td>\n",
              "      <td>...</td>\n",
              "      <td>...</td>\n",
              "    </tr>\n",
              "    <tr>\n",
              "      <th>8801</th>\n",
              "      <td>s8802</td>\n",
              "      <td>Movie</td>\n",
              "      <td>[Majid Al Ansari]</td>\n",
              "    </tr>\n",
              "    <tr>\n",
              "      <th>8802</th>\n",
              "      <td>s8803</td>\n",
              "      <td>Movie</td>\n",
              "      <td>[David Fincher]</td>\n",
              "    </tr>\n",
              "    <tr>\n",
              "      <th>8804</th>\n",
              "      <td>s8805</td>\n",
              "      <td>Movie</td>\n",
              "      <td>[Ruben Fleischer]</td>\n",
              "    </tr>\n",
              "    <tr>\n",
              "      <th>8805</th>\n",
              "      <td>s8806</td>\n",
              "      <td>Movie</td>\n",
              "      <td>[Peter Hewitt]</td>\n",
              "    </tr>\n",
              "    <tr>\n",
              "      <th>8806</th>\n",
              "      <td>s8807</td>\n",
              "      <td>Movie</td>\n",
              "      <td>[Mozez Singh]</td>\n",
              "    </tr>\n",
              "  </tbody>\n",
              "</table>\n",
              "<p>6173 rows × 3 columns</p>\n",
              "</div>"
            ],
            "text/plain": [
              "     show_id     type                          director\n",
              "0         s1    Movie                 [Kirsten Johnson]\n",
              "2         s3  TV Show                 [Julien Leclercq]\n",
              "5         s6  TV Show                   [Mike Flanagan]\n",
              "6         s7    Movie  [Robert Cullen,  José Luis Ucha]\n",
              "7         s8    Movie                    [Haile Gerima]\n",
              "...      ...      ...                               ...\n",
              "8801   s8802    Movie                 [Majid Al Ansari]\n",
              "8802   s8803    Movie                   [David Fincher]\n",
              "8804   s8805    Movie                 [Ruben Fleischer]\n",
              "8805   s8806    Movie                    [Peter Hewitt]\n",
              "8806   s8807    Movie                     [Mozez Singh]\n",
              "\n",
              "[6173 rows x 3 columns]"
            ]
          },
          "execution_count": 456,
          "metadata": {},
          "output_type": "execute_result"
        }
      ],
      "source": [
        "dir_tb = df[['show_id' , 'type' , 'director']]\n",
        "dir_tb.dropna(inplace = True)\n",
        "dir_tb['director'] = dir_tb['director'].apply(lambda x : x.split(','))\n",
        "dir_tb"
      ]
    },
    {
      "cell_type": "code",
      "execution_count": null,
      "id": "151fa919-bbc6-476a-b36a-867efce117a3",
      "metadata": {
        "id": "151fa919-bbc6-476a-b36a-867efce117a3"
      },
      "outputs": [],
      "source": [
        "dir_tb = dir_tb.explode('director')"
      ]
    },
    {
      "cell_type": "code",
      "execution_count": null,
      "id": "7cb5768e-415e-4cdb-b223-de7c0fadb10c",
      "metadata": {
        "id": "7cb5768e-415e-4cdb-b223-de7c0fadb10c"
      },
      "outputs": [],
      "source": [
        "dir_tb['director'] = dir_tb['director'].str.strip()"
      ]
    },
    {
      "cell_type": "code",
      "execution_count": null,
      "id": "fafc5034-2ffc-4226-b9a2-299bb7c3eea0",
      "metadata": {
        "id": "fafc5034-2ffc-4226-b9a2-299bb7c3eea0",
        "outputId": "2c8cddb8-4241-41a7-e058-cc1630f86867"
      },
      "outputs": [
        {
          "data": {
            "text/plain": [
              "director\n",
              "False    6978\n",
              "Name: count, dtype: int64"
            ]
          },
          "execution_count": 462,
          "metadata": {},
          "output_type": "execute_result"
        }
      ],
      "source": [
        "# checking if empty stirngs are there in director column\n",
        "dir_tb.director.apply(lambda x : True if len(x) == 0 else False).value_counts()"
      ]
    },
    {
      "cell_type": "code",
      "execution_count": null,
      "id": "3e9671d3-019d-4269-ae13-7432285bc45c",
      "metadata": {
        "scrolled": true,
        "id": "3e9671d3-019d-4269-ae13-7432285bc45c",
        "outputId": "422222b3-97c5-4a20-ed33-b8b50e4c0580"
      },
      "outputs": [
        {
          "data": {
            "text/html": [
              "<div>\n",
              "<style scoped>\n",
              "    .dataframe tbody tr th:only-of-type {\n",
              "        vertical-align: middle;\n",
              "    }\n",
              "\n",
              "    .dataframe tbody tr th {\n",
              "        vertical-align: top;\n",
              "    }\n",
              "\n",
              "    .dataframe thead th {\n",
              "        text-align: right;\n",
              "    }\n",
              "</style>\n",
              "<table border=\"1\" class=\"dataframe\">\n",
              "  <thead>\n",
              "    <tr style=\"text-align: right;\">\n",
              "      <th></th>\n",
              "      <th>show_id</th>\n",
              "      <th>type</th>\n",
              "      <th>director</th>\n",
              "    </tr>\n",
              "  </thead>\n",
              "  <tbody>\n",
              "    <tr>\n",
              "      <th>0</th>\n",
              "      <td>s1</td>\n",
              "      <td>Movie</td>\n",
              "      <td>Kirsten Johnson</td>\n",
              "    </tr>\n",
              "    <tr>\n",
              "      <th>2</th>\n",
              "      <td>s3</td>\n",
              "      <td>TV Show</td>\n",
              "      <td>Julien Leclercq</td>\n",
              "    </tr>\n",
              "    <tr>\n",
              "      <th>5</th>\n",
              "      <td>s6</td>\n",
              "      <td>TV Show</td>\n",
              "      <td>Mike Flanagan</td>\n",
              "    </tr>\n",
              "    <tr>\n",
              "      <th>6</th>\n",
              "      <td>s7</td>\n",
              "      <td>Movie</td>\n",
              "      <td>Robert Cullen</td>\n",
              "    </tr>\n",
              "    <tr>\n",
              "      <th>6</th>\n",
              "      <td>s7</td>\n",
              "      <td>Movie</td>\n",
              "      <td>José Luis Ucha</td>\n",
              "    </tr>\n",
              "    <tr>\n",
              "      <th>...</th>\n",
              "      <td>...</td>\n",
              "      <td>...</td>\n",
              "      <td>...</td>\n",
              "    </tr>\n",
              "    <tr>\n",
              "      <th>8801</th>\n",
              "      <td>s8802</td>\n",
              "      <td>Movie</td>\n",
              "      <td>Majid Al Ansari</td>\n",
              "    </tr>\n",
              "    <tr>\n",
              "      <th>8802</th>\n",
              "      <td>s8803</td>\n",
              "      <td>Movie</td>\n",
              "      <td>David Fincher</td>\n",
              "    </tr>\n",
              "    <tr>\n",
              "      <th>8804</th>\n",
              "      <td>s8805</td>\n",
              "      <td>Movie</td>\n",
              "      <td>Ruben Fleischer</td>\n",
              "    </tr>\n",
              "    <tr>\n",
              "      <th>8805</th>\n",
              "      <td>s8806</td>\n",
              "      <td>Movie</td>\n",
              "      <td>Peter Hewitt</td>\n",
              "    </tr>\n",
              "    <tr>\n",
              "      <th>8806</th>\n",
              "      <td>s8807</td>\n",
              "      <td>Movie</td>\n",
              "      <td>Mozez Singh</td>\n",
              "    </tr>\n",
              "  </tbody>\n",
              "</table>\n",
              "<p>6978 rows × 3 columns</p>\n",
              "</div>"
            ],
            "text/plain": [
              "     show_id     type         director\n",
              "0         s1    Movie  Kirsten Johnson\n",
              "2         s3  TV Show  Julien Leclercq\n",
              "5         s6  TV Show    Mike Flanagan\n",
              "6         s7    Movie    Robert Cullen\n",
              "6         s7    Movie   José Luis Ucha\n",
              "...      ...      ...              ...\n",
              "8801   s8802    Movie  Majid Al Ansari\n",
              "8802   s8803    Movie    David Fincher\n",
              "8804   s8805    Movie  Ruben Fleischer\n",
              "8805   s8806    Movie     Peter Hewitt\n",
              "8806   s8807    Movie      Mozez Singh\n",
              "\n",
              "[6978 rows x 3 columns]"
            ]
          },
          "execution_count": 464,
          "metadata": {},
          "output_type": "execute_result"
        }
      ],
      "source": [
        "dir_tb"
      ]
    },
    {
      "cell_type": "code",
      "execution_count": null,
      "id": "3d6909ae-80d6-45ed-9bd0-06bef5a24931",
      "metadata": {
        "id": "3d6909ae-80d6-45ed-9bd0-06bef5a24931",
        "outputId": "8d717434-7410-45d9-bb17-5e08f70b2b53"
      },
      "outputs": [
        {
          "data": {
            "text/plain": [
              "4993"
            ]
          },
          "execution_count": 466,
          "metadata": {},
          "output_type": "execute_result"
        }
      ],
      "source": [
        "dir_tb['director'].nunique()  #Number of unique directors in the dataset"
      ]
    },
    {
      "cell_type": "code",
      "execution_count": null,
      "id": "7c3eff98-a5a5-4cda-bcf9-a32384f18592",
      "metadata": {
        "id": "7c3eff98-a5a5-4cda-bcf9-a32384f18592"
      },
      "outputs": [],
      "source": [
        "#Answering the qs now i.e Total movies and tv shows directed by each director"
      ]
    },
    {
      "cell_type": "code",
      "execution_count": null,
      "id": "2d72ee06-975c-42e5-891c-035b3e2ab383",
      "metadata": {
        "scrolled": true,
        "id": "2d72ee06-975c-42e5-891c-035b3e2ab383",
        "outputId": "b3c8adac-d9f4-4cea-b424-9eac8af81ccb"
      },
      "outputs": [
        {
          "data": {
            "text/html": [
              "<div>\n",
              "<style scoped>\n",
              "    .dataframe tbody tr th:only-of-type {\n",
              "        vertical-align: middle;\n",
              "    }\n",
              "\n",
              "    .dataframe tbody tr th {\n",
              "        vertical-align: top;\n",
              "    }\n",
              "\n",
              "    .dataframe thead th {\n",
              "        text-align: right;\n",
              "    }\n",
              "</style>\n",
              "<table border=\"1\" class=\"dataframe\">\n",
              "  <thead>\n",
              "    <tr style=\"text-align: right;\">\n",
              "      <th>type</th>\n",
              "      <th>Movie</th>\n",
              "      <th>TV Show</th>\n",
              "    </tr>\n",
              "    <tr>\n",
              "      <th>director</th>\n",
              "      <th></th>\n",
              "      <th></th>\n",
              "    </tr>\n",
              "  </thead>\n",
              "  <tbody>\n",
              "    <tr>\n",
              "      <th>Rajiv Chilaka</th>\n",
              "      <td>22.0</td>\n",
              "      <td>NaN</td>\n",
              "    </tr>\n",
              "    <tr>\n",
              "      <th>Jan Suter</th>\n",
              "      <td>21.0</td>\n",
              "      <td>NaN</td>\n",
              "    </tr>\n",
              "    <tr>\n",
              "      <th>Raúl Campos</th>\n",
              "      <td>19.0</td>\n",
              "      <td>NaN</td>\n",
              "    </tr>\n",
              "    <tr>\n",
              "      <th>Suhas Kadav</th>\n",
              "      <td>16.0</td>\n",
              "      <td>NaN</td>\n",
              "    </tr>\n",
              "    <tr>\n",
              "      <th>Marcus Raboy</th>\n",
              "      <td>15.0</td>\n",
              "      <td>1.0</td>\n",
              "    </tr>\n",
              "    <tr>\n",
              "      <th>...</th>\n",
              "      <td>...</td>\n",
              "      <td>...</td>\n",
              "    </tr>\n",
              "    <tr>\n",
              "      <th>Vijay S. Bhanushali</th>\n",
              "      <td>NaN</td>\n",
              "      <td>1.0</td>\n",
              "    </tr>\n",
              "    <tr>\n",
              "      <th>Wouter Bouvijn</th>\n",
              "      <td>NaN</td>\n",
              "      <td>1.0</td>\n",
              "    </tr>\n",
              "    <tr>\n",
              "      <th>YC Tom Lee</th>\n",
              "      <td>NaN</td>\n",
              "      <td>1.0</td>\n",
              "    </tr>\n",
              "    <tr>\n",
              "      <th>Yasuhiro Irie</th>\n",
              "      <td>NaN</td>\n",
              "      <td>1.0</td>\n",
              "    </tr>\n",
              "    <tr>\n",
              "      <th>Yim Pilsung</th>\n",
              "      <td>NaN</td>\n",
              "      <td>1.0</td>\n",
              "    </tr>\n",
              "  </tbody>\n",
              "</table>\n",
              "<p>4993 rows × 2 columns</p>\n",
              "</div>"
            ],
            "text/plain": [
              "type                 Movie  TV Show\n",
              "director                           \n",
              "Rajiv Chilaka         22.0      NaN\n",
              "Jan Suter             21.0      NaN\n",
              "Raúl Campos           19.0      NaN\n",
              "Suhas Kadav           16.0      NaN\n",
              "Marcus Raboy          15.0      1.0\n",
              "...                    ...      ...\n",
              "Vijay S. Bhanushali    NaN      1.0\n",
              "Wouter Bouvijn         NaN      1.0\n",
              "YC Tom Lee             NaN      1.0\n",
              "Yasuhiro Irie          NaN      1.0\n",
              "Yim Pilsung            NaN      1.0\n",
              "\n",
              "[4993 rows x 2 columns]"
            ]
          },
          "execution_count": 468,
          "metadata": {},
          "output_type": "execute_result"
        }
      ],
      "source": [
        "x = dir_tb.groupby(['director' , 'type'])['show_id'].count().reset_index()\n",
        "x.pivot(index= ['director'] , columns = 'type' , values = 'show_id').sort_values('Movie' ,ascending = False)"
      ]
    },
    {
      "cell_type": "markdown",
      "id": "6037f3be-a848-4792-9da5-5e5dd03e699f",
      "metadata": {
        "id": "6037f3be-a848-4792-9da5-5e5dd03e699f"
      },
      "source": [
        "## Visual Analysis"
      ]
    },
    {
      "cell_type": "markdown",
      "id": "d2429ad5-55ce-49d4-be7d-65c7adde4972",
      "metadata": {
        "id": "d2429ad5-55ce-49d4-be7d-65c7adde4972"
      },
      "source": [
        "1. Distribution of content across the different types (Movies/TV Shows) using matplotlib pie chart."
      ]
    },
    {
      "cell_type": "code",
      "execution_count": null,
      "id": "b12e021f-a1fe-4660-b031-db2d1bae83d4",
      "metadata": {
        "id": "b12e021f-a1fe-4660-b031-db2d1bae83d4",
        "outputId": "6aeaf392-d1a6-43ae-87ce-90cf3ec60093"
      },
      "outputs": [
        {
          "data": {
            "image/png": "[encoded data removed]",
            "text/plain": [
              "<Figure size 640x480 with 1 Axes>"
            ]
          },
          "metadata": {},
          "output_type": "display_data"
        }
      ],
      "source": [
        "types = df.type.value_counts()\n",
        "plt.pie(types,  labels=types.index, autopct='%1.1f%%' , colors = ['blue' , 'orange'])\n",
        "plt.title('Total Movies and TV Shows')\n",
        "plt.show()"
      ]
    },
    {
      "cell_type": "markdown",
      "id": "d50097f6-c3a1-4065-b262-7d80a66907e4",
      "metadata": {
        "id": "d50097f6-c3a1-4065-b262-7d80a66907e4"
      },
      "source": [
        "Around 70% content is Movies while around 30% content is TV shows. This suggests a strategic focus or higher user demand for movie content. This insight could be useful for understanding Netflix’s content strategy and the preferences of its user base."
      ]
    },
    {
      "cell_type": "markdown",
      "id": "f7b46f25-e742-4417-b7fa-483222ee32d7",
      "metadata": {
        "id": "f7b46f25-e742-4417-b7fa-483222ee32d7"
      },
      "source": [
        "2. General visual analysis of null values in each column."
      ]
    },
    {
      "cell_type": "code",
      "execution_count": null,
      "id": "a6a6925d-94c1-44d7-b0ae-3239a129b033",
      "metadata": {
        "id": "a6a6925d-94c1-44d7-b0ae-3239a129b033",
        "outputId": "8794b7e0-5337-48f9-814e-4c83642ba7b3"
      },
      "outputs": [
        {
          "data": {
            "image/png": "[encoded data removed]",
            "text/plain": [
              "<Figure size 1200x600 with 1 Axes>"
            ]
          },
          "metadata": {},
          "output_type": "display_data"
        }
      ],
      "source": [
        "plt.figure(figsize=(12, 6))\n",
        "sns.heatmap(df.isnull(), cbar=False, cmap='viridis', yticklabels=False)\n",
        "plt.title('Null Values Heatmap')\n",
        "plt.show()"
      ]
    },
    {
      "cell_type": "markdown",
      "id": "e8d5cd1b-cbbf-49ff-b0ee-93db162b423d",
      "metadata": {
        "id": "e8d5cd1b-cbbf-49ff-b0ee-93db162b423d"
      },
      "source": [
        "3. Seaborn box plot for each numeric column to identify any outliers."
      ]
    },
    {
      "cell_type": "code",
      "execution_count": null,
      "id": "279ae22d-b47c-4c69-befb-e5aa09ab4906",
      "metadata": {
        "id": "279ae22d-b47c-4c69-befb-e5aa09ab4906",
        "outputId": "71114942-f43a-4ae3-a7ce-6f3d22e751d8"
      },
      "outputs": [
        {
          "data": {
            "image/png": "[encoded data removed]",
            "text/plain": [
              "<Figure size 1200x800 with 1 Axes>"
            ]
          },
          "metadata": {},
          "output_type": "display_data"
        }
      ],
      "source": [
        "plt.figure(figsize=(12, 8))\n",
        "sns.boxplot(data=df.select_dtypes(include=['float64', 'int64']))\n",
        "plt.title('Box Plot of Numeric Columns')\n",
        "plt.show()"
      ]
    },
    {
      "cell_type": "markdown",
      "id": "44a82c56-59e4-4024-8e85-6385d9b3ce4f",
      "metadata": {
        "id": "44a82c56-59e4-4024-8e85-6385d9b3ce4f"
      },
      "source": [
        "Both year_added and month_added columns have a consistent distribution without any significant outliers. This indicates that the content on Netflix has been added fairly evenly across different years and months, with no extreme deviations or anomalies in the dataset's temporal data."
      ]
    },
    {
      "cell_type": "code",
      "execution_count": null,
      "id": "dfbb7bf8-07e4-4edf-a684-62c262d1fc8d",
      "metadata": {
        "id": "dfbb7bf8-07e4-4edf-a684-62c262d1fc8d"
      },
      "outputs": [],
      "source": []
    }
  ],
  "metadata": {
    "kernelspec": {
      "display_name": "Python 3 (ipykernel)",
      "language": "python",
      "name": "python3"
    },
    "language_info": {
      "codemirror_mode": {
        "name": "ipython",
        "version": 3
      },
      "file_extension": ".py",
      "mimetype": "text/x-python",
      "name": "python",
      "nbconvert_exporter": "python",
      "pygments_lexer": "ipython3",
      "version": "3.12.4"
    },
    "colab": {
      "provenance": []
    }
  },
  "nbformat": 4,
  "nbformat_minor": 5
}